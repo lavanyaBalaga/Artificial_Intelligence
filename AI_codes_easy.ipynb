{
  "nbformat": 4,
  "nbformat_minor": 0,
  "metadata": {
    "colab": {
      "provenance": [],
      "collapsed_sections": [
        "YMok0L-DF2Gy",
        "GoZDvf46F9gc",
        "FEYefGgoGCZd",
        "Nt5F0PXGGHrt",
        "Nq8a71u6GOEh",
        "18Yc5nDAGS41",
        "iuQh0ClrGa9G",
        "rzEObJ-IGfrE"
      ]
    },
    "kernelspec": {
      "name": "python3",
      "display_name": "Python 3"
    },
    "language_info": {
      "name": "python"
    }
  },
  "cells": [
    {
      "cell_type": "markdown",
      "source": [
        "# **BFS,DFS**"
      ],
      "metadata": {
        "id": "YMok0L-DF2Gy"
      }
    },
    {
      "cell_type": "code",
      "source": [
        "a=[[0,1,1,0,0,0,0],[1,0,0,1,1,0,0],[1,0,0,0,0,1,1],[0,1,0,0,0,0,0],[0,1,0,0,0,0,0],[0,0,1,0,0,0,0],[0,0,1,0,0,0,0]]\n",
        "import numpy as np\n",
        "a"
      ],
      "metadata": {
        "colab": {
          "base_uri": "https://localhost:8080/"
        },
        "id": "zp8lkvRxF67W",
        "outputId": "c58c9a30-98aa-4bd8-ccb6-a1b534d80563"
      },
      "execution_count": null,
      "outputs": [
        {
          "output_type": "execute_result",
          "data": {
            "text/plain": [
              "[[0, 1, 1, 0, 0, 0, 0],\n",
              " [1, 0, 0, 1, 1, 0, 0],\n",
              " [1, 0, 0, 0, 0, 1, 1],\n",
              " [0, 1, 0, 0, 0, 0, 0],\n",
              " [0, 1, 0, 0, 0, 0, 0],\n",
              " [0, 0, 1, 0, 0, 0, 0],\n",
              " [0, 0, 1, 0, 0, 0, 0]]"
            ]
          },
          "metadata": {},
          "execution_count": 24
        }
      ]
    },
    {
      "cell_type": "code",
      "source": [
        "inst=input(\"enter intial state\")\n",
        "gs=input(\"enter goal state\")"
      ],
      "metadata": {
        "colab": {
          "base_uri": "https://localhost:8080/"
        },
        "id": "11gXCFT7CxBh",
        "outputId": "6af4e1bb-d537-4b8c-ef38-fa3f5cf04a6a"
      },
      "execution_count": null,
      "outputs": [
        {
          "name": "stdout",
          "output_type": "stream",
          "text": [
            "enter intial statea\n",
            "enter goal statee\n"
          ]
        }
      ]
    },
    {
      "cell_type": "code",
      "source": [
        "def bfs():\n",
        "    v=[]\n",
        "    q=[]\n",
        "    g=ord(gs)-ord('a')\n",
        "    ins=ord(inst)-ord('a')\n",
        "    q.append(ins)\n",
        "    while(len(q)!=0):\n",
        "        j=q.pop(0)\n",
        "        if(j not in v):\n",
        "            v.append(j)\n",
        "            if(j==g):\n",
        "                return v\n",
        "            for i in range(len(a)):\n",
        "                if(a[j][i]==1):\n",
        "                    if(i not in v):\n",
        "                        q.append(i)\n",
        "    return -1\n",
        "r=bfs()\n",
        "if(r==-1):\n",
        "    print(\"not found\")\n",
        "else:\n",
        "    for i in r:\n",
        "        print(chr(ord('a')+i))"
      ],
      "metadata": {
        "colab": {
          "base_uri": "https://localhost:8080/"
        },
        "id": "RktOOR29C4GS",
        "outputId": "a80a952d-fdaf-49a1-afc3-ec08853e50ef"
      },
      "execution_count": null,
      "outputs": [
        {
          "output_type": "stream",
          "name": "stdout",
          "text": [
            "a\n",
            "b\n",
            "c\n",
            "d\n",
            "e\n"
          ]
        }
      ]
    },
    {
      "cell_type": "markdown",
      "source": [
        "# **Uniform**"
      ],
      "metadata": {
        "id": "GoZDvf46F9gc"
      }
    },
    {
      "cell_type": "code",
      "source": [
        "a=[[0,80,99,0,0],[80,0,0,97,0],[99,0,0,0,211],[0,97,0,0,101],[0,0,211,101,0]]\n",
        "a"
      ],
      "metadata": {
        "colab": {
          "base_uri": "https://localhost:8080/"
        },
        "id": "WilBK2_iC4Qg",
        "outputId": "952bde59-281c-4ac1-e5ce-a8ee9531757c"
      },
      "execution_count": null,
      "outputs": [
        {
          "output_type": "execute_result",
          "data": {
            "text/plain": [
              "[[0, 80, 99, 0, 0],\n",
              " [80, 0, 0, 97, 0],\n",
              " [99, 0, 0, 0, 211],\n",
              " [0, 97, 0, 0, 101],\n",
              " [0, 0, 211, 101, 0]]"
            ]
          },
          "metadata": {},
          "execution_count": 4
        }
      ]
    },
    {
      "cell_type": "code",
      "source": [
        "inst=int(input(\"enter intial state\"))\n",
        "gs=int(input(\"enter goal state\"))"
      ],
      "metadata": {
        "colab": {
          "base_uri": "https://localhost:8080/"
        },
        "id": "7t2AlxAXDFpr",
        "outputId": "4bdbb510-1dcf-42a7-f1fb-1f6bbe23e949"
      },
      "execution_count": null,
      "outputs": [
        {
          "name": "stdout",
          "output_type": "stream",
          "text": [
            "enter intial state0\n",
            "enter goal state4\n"
          ]
        }
      ]
    },
    {
      "cell_type": "code",
      "source": [
        "def uc():\n",
        "    v=[]\n",
        "    q=[]\n",
        "    c=[]\n",
        "    ans=[]\n",
        "    m=1000000\n",
        "    q.append(inst)\n",
        "    c.append(0)\n",
        "    while(len(q)!=0):\n",
        "        j=q.pop(0)\n",
        "        k=c.pop(0)\n",
        "        if(j not in v):\n",
        "            v.append(j)\n",
        "            for i in range(len(a)):\n",
        "                if(a[j][i]!=0):\n",
        "                    if(i==gs):\n",
        "                        ans.append(a[j][i]+k)\n",
        "                        continue\n",
        "                    if(i not in v):\n",
        "                        q.append(i)\n",
        "                        c.append(a[j][i]+k)\n",
        "    print(ans)\n",
        "    m=min(ans)\n",
        "    return m\n",
        "r=uc()\n",
        "if(r==1000000):\n",
        "    print(\"not found\")\n",
        "else:\n",
        "    print(r)"
      ],
      "metadata": {
        "colab": {
          "base_uri": "https://localhost:8080/"
        },
        "id": "nkBWhwHADIK1",
        "outputId": "dd806f2e-8b29-4e07-c8c2-be71563bf464"
      },
      "execution_count": null,
      "outputs": [
        {
          "output_type": "stream",
          "name": "stdout",
          "text": [
            "[310, 278]\n",
            "278\n"
          ]
        }
      ]
    },
    {
      "cell_type": "markdown",
      "source": [
        "# **Waterjug**"
      ],
      "metadata": {
        "id": "FEYefGgoGCZd"
      }
    },
    {
      "cell_type": "code",
      "source": [
        "h=int(input(\"enter large jug volume\"))\n",
        "l=int(input(\"enter small jug volume\"))\n",
        "inst=list(map(int,(input(\"enter intial state\").split(' '))))"
      ],
      "metadata": {
        "colab": {
          "base_uri": "https://localhost:8080/"
        },
        "id": "KD1jV-k_DWSt",
        "outputId": "e7cbbf65-4039-405c-dc54-f1c9262b2ece"
      },
      "execution_count": null,
      "outputs": [
        {
          "name": "stdout",
          "output_type": "stream",
          "text": [
            "enter large jug volume5\n",
            "enter small jug volume3\n",
            "enter intial state0 0\n"
          ]
        }
      ]
    },
    {
      "cell_type": "code",
      "source": [
        "gs=int(input(\"enter goal state\"))"
      ],
      "metadata": {
        "colab": {
          "base_uri": "https://localhost:8080/"
        },
        "id": "vMoT-PpHDZKj",
        "outputId": "809261ce-794e-4194-ee06-98190d8314d2"
      },
      "execution_count": null,
      "outputs": [
        {
          "name": "stdout",
          "output_type": "stream",
          "text": [
            "enter goal state4\n"
          ]
        }
      ]
    },
    {
      "cell_type": "code",
      "source": [
        "def rules(x,y):\n",
        "    if(x<h):\n",
        "        q.append([h,y])\n",
        "    if(x>0):\n",
        "        q.append([0,y])\n",
        "    if(y<l):\n",
        "        q.append([x,l])\n",
        "    if(y>0):\n",
        "        q.append([x,0])\n",
        "    if(x+y<=h and y>0):\n",
        "        q.append([x+y,0])\n",
        "    if(x+y<=l and x>0):\n",
        "        q.append([0,x+y])\n",
        "    if(x+y>=h and y>0):\n",
        "        q.append([h,(x+y)-h])\n",
        "    if(x+y>=l and x>0):\n",
        "        q.append([(x+y)-l,l])\n",
        "    #print(\"for \",x,y,\"queue is\",q)\n",
        "def bfs():\n",
        "    q.append(inst)\n",
        "    while(len(q)!=0):\n",
        "        j=q.pop()\n",
        "        if(j not in v):\n",
        "            v.append(j)\n",
        "            if(gs in j):\n",
        "                return v\n",
        "            rules(j[0],j[1])\n",
        "    return -1\n",
        "q=[]\n",
        "v=[]\n",
        "r=bfs()\n",
        "if(r==-1):\n",
        "    print(\"not found\")\n",
        "else:\n",
        "    for i in r:\n",
        "        print(i)"
      ],
      "metadata": {
        "colab": {
          "base_uri": "https://localhost:8080/"
        },
        "id": "WSAcLBiADfuh",
        "outputId": "e4d86dc1-fd1e-4e49-fbc2-ae69eadb1a56"
      },
      "execution_count": null,
      "outputs": [
        {
          "output_type": "stream",
          "name": "stdout",
          "text": [
            "[0, 0]\n",
            "[0, 3]\n",
            "[3, 0]\n",
            "[3, 3]\n",
            "[5, 1]\n",
            "[5, 0]\n",
            "[2, 3]\n",
            "[2, 0]\n",
            "[0, 2]\n",
            "[5, 2]\n",
            "[4, 3]\n"
          ]
        }
      ]
    },
    {
      "cell_type": "markdown",
      "source": [
        "# **ITerativedeepening**"
      ],
      "metadata": {
        "id": "Nt5F0PXGGHrt"
      }
    },
    {
      "cell_type": "code",
      "source": [
        "a=[[0,1,1,0,0,0,0,0],[1,0,0,1,1,0,0,0],[1,0,0,0,0,1,1,0],[0,1,0,0,0,0,0,0],[0,1,0,0,0,0,0,0],[0,0,1,0,0,0,0,0],[0,0,1,0,0,0,0,1],[0,0,0,0,0,0,1,0]]\n",
        "a"
      ],
      "metadata": {
        "colab": {
          "base_uri": "https://localhost:8080/"
        },
        "id": "eLgHfm4yDrwy",
        "outputId": "bdcdc17a-a4a9-4c76-e8e9-f6ec2c5eb717"
      },
      "execution_count": null,
      "outputs": [
        {
          "output_type": "execute_result",
          "data": {
            "text/plain": [
              "[[0, 1, 1, 0, 0, 0, 0, 0],\n",
              " [1, 0, 0, 1, 1, 0, 0, 0],\n",
              " [1, 0, 0, 0, 0, 1, 1, 0],\n",
              " [0, 1, 0, 0, 0, 0, 0, 0],\n",
              " [0, 1, 0, 0, 0, 0, 0, 0],\n",
              " [0, 0, 1, 0, 0, 0, 0, 0],\n",
              " [0, 0, 1, 0, 0, 0, 0, 1],\n",
              " [0, 0, 0, 0, 0, 0, 1, 0]]"
            ]
          },
          "metadata": {},
          "execution_count": 11
        }
      ]
    },
    {
      "cell_type": "code",
      "source": [
        "inst=int(input(\"enter intial state\"))\n",
        "gs=int(input(\"enter goal state\"))\n",
        "l=int(input(\"enter limit\"))"
      ],
      "metadata": {
        "colab": {
          "base_uri": "https://localhost:8080/"
        },
        "id": "bb6wGyvtDvA7",
        "outputId": "c8d34666-c038-4830-d69a-d6178ce04edb"
      },
      "execution_count": null,
      "outputs": [
        {
          "name": "stdout",
          "output_type": "stream",
          "text": [
            "enter intial state0\n",
            "enter goal state7\n",
            "enter limit3\n"
          ]
        }
      ]
    },
    {
      "cell_type": "code",
      "source": [
        "def idfs():\n",
        "    v=[]\n",
        "    q=[]\n",
        "    q.append((inst,0))\n",
        "    c=0\n",
        "    while(len(q)!=0):\n",
        "        m=q.pop(-1)\n",
        "        j=m[0]\n",
        "        if(j not in v):\n",
        "            v.append(j)\n",
        "            if(j==gs):\n",
        "                return v\n",
        "            for i in range(len(a)):\n",
        "                if(a[j][i]==1 and m[1]<l):\n",
        "                    if(i not in v):\n",
        "                        q.append((i,m[1]+1))\n",
        "            print(q)\n",
        "    return -1\n",
        "r=idfs()\n",
        "if(r==-1):\n",
        "    print(\"not found\")\n",
        "else:\n",
        "    for i in r:\n",
        "        print(i)"
      ],
      "metadata": {
        "colab": {
          "base_uri": "https://localhost:8080/"
        },
        "id": "KuB_egCeDzop",
        "outputId": "a6caeb46-9bd1-4fd1-9738-bf9e8b3077bd"
      },
      "execution_count": null,
      "outputs": [
        {
          "output_type": "stream",
          "name": "stdout",
          "text": [
            "[(1, 1), (2, 1)]\n",
            "[(1, 1), (5, 2), (6, 2)]\n",
            "[(1, 1), (5, 2), (7, 3)]\n",
            "0\n",
            "2\n",
            "6\n",
            "7\n"
          ]
        }
      ]
    },
    {
      "cell_type": "markdown",
      "source": [
        "# **GreedyBest**"
      ],
      "metadata": {
        "id": "Nq8a71u6GOEh"
      }
    },
    {
      "cell_type": "code",
      "source": [
        "a=[[0,80,99,0,0],[80,0,0,97,0],[99,0,0,0,211],[0,97,0,0,101],[0,0,211,101,0]]\n",
        "a"
      ],
      "metadata": {
        "colab": {
          "base_uri": "https://localhost:8080/"
        },
        "id": "SYO95xFUEHBI",
        "outputId": "4f18058a-914b-4a05-db6a-e31604810114"
      },
      "execution_count": null,
      "outputs": [
        {
          "output_type": "execute_result",
          "data": {
            "text/plain": [
              "[[0, 80, 99, 0, 0],\n",
              " [80, 0, 0, 97, 0],\n",
              " [99, 0, 0, 0, 211],\n",
              " [0, 97, 0, 0, 101],\n",
              " [0, 0, 211, 101, 0]]"
            ]
          },
          "metadata": {},
          "execution_count": 15
        }
      ]
    },
    {
      "cell_type": "code",
      "source": [
        "inst=int(input(\"enter intial state\"))\n",
        "h=list(map(int,input(\"enter hueristic value\").split(' ')))"
      ],
      "metadata": {
        "colab": {
          "base_uri": "https://localhost:8080/"
        },
        "id": "twPv_UH9EKRZ",
        "outputId": "03063452-b0f7-4933-cde2-7a509b046ea2"
      },
      "execution_count": null,
      "outputs": [
        {
          "name": "stdout",
          "output_type": "stream",
          "text": [
            "enter intial state0\n",
            "enter hueristic value4 6 8 0 2\n"
          ]
        }
      ]
    },
    {
      "cell_type": "code",
      "source": [
        "def gbfs(j):\n",
        "    q=0\n",
        "    m=100000\n",
        "    if(j not in v):\n",
        "            #print(\"hello\")\n",
        "            v.append(j)\n",
        "            if(h[j]==0):\n",
        "                #print(\"hooo\")\n",
        "                return v\n",
        "            for i in range(len(a)-1):\n",
        "                if(a[j][i]!=0):\n",
        "                    if(i in v):\n",
        "                        continue\n",
        "                    if(h[i]==0):\n",
        "                        v.append(i)\n",
        "                        #print(\"hooo1\")\n",
        "                        return v\n",
        "                    if(h[i]<m):\n",
        "                        m=h[i]\n",
        "                        q=i\n",
        "            return(gbfs(q))\n",
        "v=[]\n",
        "gbfs(inst)"
      ],
      "metadata": {
        "colab": {
          "base_uri": "https://localhost:8080/"
        },
        "id": "BB_ob_2SEQiI",
        "outputId": "dcafb7f5-e90b-40d6-84fc-533911d5f220"
      },
      "execution_count": null,
      "outputs": [
        {
          "output_type": "execute_result",
          "data": {
            "text/plain": [
              "[0, 1, 3]"
            ]
          },
          "metadata": {},
          "execution_count": 17
        }
      ]
    },
    {
      "cell_type": "markdown",
      "source": [
        "# **ASTAR**"
      ],
      "metadata": {
        "id": "18Yc5nDAGS41"
      }
    },
    {
      "cell_type": "code",
      "source": [
        "a=[[0,140,118,75,0,0,0,0],[140,0,0,0,80,99,0,0],[118,0,0,0,0,0,0,0],[75,0,0,0,0,0,0,0],[0,80,0,0,0,0,97,0],[0,99,0,0,0,0,0,211],[0,0,0,0,97,0,0,101],[0,0,0,0,0,211,101,0]]\n",
        "a"
      ],
      "metadata": {
        "colab": {
          "base_uri": "https://localhost:8080/"
        },
        "id": "aO8BLWc1EfJh",
        "outputId": "a6e14098-2269-4ed4-8cf9-8f85bcbd35c3"
      },
      "execution_count": null,
      "outputs": [
        {
          "output_type": "execute_result",
          "data": {
            "text/plain": [
              "[[0, 140, 118, 75, 0, 0, 0, 0],\n",
              " [140, 0, 0, 0, 80, 99, 0, 0],\n",
              " [118, 0, 0, 0, 0, 0, 0, 0],\n",
              " [75, 0, 0, 0, 0, 0, 0, 0],\n",
              " [0, 80, 0, 0, 0, 0, 97, 0],\n",
              " [0, 99, 0, 0, 0, 0, 0, 211],\n",
              " [0, 0, 0, 0, 97, 0, 0, 101],\n",
              " [0, 0, 0, 0, 0, 211, 101, 0]]"
            ]
          },
          "metadata": {},
          "execution_count": 18
        }
      ]
    },
    {
      "cell_type": "code",
      "source": [
        "inst=int(input(\"enter intial state\"))\n",
        "h=list(map(int,input(\"enter hueristic value\").split(' ')))"
      ],
      "metadata": {
        "colab": {
          "base_uri": "https://localhost:8080/"
        },
        "id": "HANO6MsXEjWM",
        "outputId": "db7d427d-37e2-4e4b-b463-3930cda57fae"
      },
      "execution_count": null,
      "outputs": [
        {
          "name": "stdout",
          "output_type": "stream",
          "text": [
            "enter intial state0\n",
            "enter hueristic value366 253 329 374 193 176 100 0\n"
          ]
        }
      ]
    },
    {
      "cell_type": "code",
      "source": [
        "def Astar(j,k):\n",
        "    q=0\n",
        "    m=100000\n",
        "    if(j not in v):\n",
        "            v.append(j)\n",
        "            if(h[j]==0):\n",
        "                v.append(k)\n",
        "                return v\n",
        "            for i in range(len(a)):\n",
        "                if(a[j][i]!=0):\n",
        "                    if(i in v):\n",
        "                        continue\n",
        "                    if(h[i]==0):\n",
        "                        v.append(i)\n",
        "                        m=a[j][i]\n",
        "                        k=k+m\n",
        "                        v.append(k)\n",
        "                        return v\n",
        "                    if(h[i]+a[j][i]<m):\n",
        "                        m=h[i]+a[j][i]\n",
        "                        q=i\n",
        "            k=k+a[j][q]\n",
        "            return(Astar(q,k))\n",
        "v=[]\n",
        "Astar(inst,0)"
      ],
      "metadata": {
        "colab": {
          "base_uri": "https://localhost:8080/"
        },
        "id": "9NyLbBELEtLP",
        "outputId": "93a47f98-b82f-4581-d3bd-1f4d6951d453"
      },
      "execution_count": null,
      "outputs": [
        {
          "output_type": "execute_result",
          "data": {
            "text/plain": [
              "[0, 1, 4, 6, 7, 418]"
            ]
          },
          "metadata": {},
          "execution_count": 20
        }
      ]
    },
    {
      "cell_type": "markdown",
      "source": [
        "# **VACCUMWORLD**"
      ],
      "metadata": {
        "id": "iuQh0ClrGa9G"
      }
    },
    {
      "cell_type": "code",
      "source": [
        "d={}\n",
        "d[1]=[1,5,2]\n",
        "d[2]=[1,4,2]\n",
        "d[3]=[3,7,4]\n",
        "d[4]=[3,4,4]\n",
        "d[5]=[5,5,6]\n",
        "d[6]=[5,8,6]\n",
        "\n",
        "print(d)\n",
        "k={}\n",
        "k[1]=[\"(dirt,vaccum)  ,  (dirt)\"]\n",
        "k[2]=[\"(dirt)         , (dirt,vaccum)\"]\n",
        "k[3]=[\"(dirt,vaccum)  ,  (clean)\"]\n",
        "k[4]=[\"(dirt)         , (clean,vaccum)\"]\n",
        "k[5]=[\"(clean,vaccum) , (dirt)\"]\n",
        "k[6]=[\"(clean)        ,   (dirt,vaccum)\"]\n",
        "k[7]=[\"(clean,vaccum) , (clean)\"]\n",
        "k[8]=[\"(clean)        ,   (clean,vaccum)\"]\n",
        "ins=int(input(\"enter initial state\"))\n",
        "def vaccum_bfs():\n",
        "    v=[]\n",
        "    q=[]\n",
        "    g=[7,8]\n",
        "    m=[]\n",
        "    q.append(ins)\n",
        "    while(len(q)!=0):\n",
        "        j=q.pop(0)\n",
        "        if(j not in v):\n",
        "            v.append(j)\n",
        "            if(j in g):\n",
        "                return v,m\n",
        "            p=d[j]\n",
        "            for i in range(3):\n",
        "                if(p[i] not in v):\n",
        "                    q.append(p[i])\n",
        "                    if(i==0):\n",
        "                        m.append(\"left\")\n",
        "                    elif(i==1):\n",
        "                        m.append(\"suck\")\n",
        "                    else:\n",
        "                        m.append(\"right\")\n",
        "    return -1,-1\n",
        "a,b=vaccum_bfs()\n",
        "if(a==-1 or b==-1):\n",
        "    print(\"cannot reach goal state\")\n",
        "else:\n",
        "    for i in range(len(a)):\n",
        "        print(k[a[i]],   a[i])\n",
        "        print(b[i])"
      ],
      "metadata": {
        "colab": {
          "base_uri": "https://localhost:8080/"
        },
        "id": "QSy-GAIOE7Ey",
        "outputId": "7f067ae1-9f78-4e1b-8b90-c4c3abefdd0b"
      },
      "execution_count": null,
      "outputs": [
        {
          "output_type": "stream",
          "name": "stdout",
          "text": [
            "{1: [1, 5, 2], 2: [1, 4, 2], 3: [3, 7, 4], 4: [3, 4, 4], 5: [5, 5, 6], 6: [5, 8, 6]}\n",
            "enter initial state1\n",
            "['(dirt,vaccum)  ,  (dirt)'] 1\n",
            "suck\n",
            "['(clean,vaccum) , (dirt)'] 5\n",
            "right\n",
            "['(dirt)         , (dirt,vaccum)'] 2\n",
            "right\n",
            "['(clean)        ,   (dirt,vaccum)'] 6\n",
            "suck\n",
            "['(dirt)         , (clean,vaccum)'] 4\n",
            "suck\n",
            "['(clean)        ,   (clean,vaccum)'] 8\n",
            "left\n"
          ]
        }
      ]
    },
    {
      "cell_type": "markdown",
      "source": [
        "# **ASTAR USING PUZZLE**"
      ],
      "metadata": {
        "id": "rzEObJ-IGfrE"
      }
    },
    {
      "cell_type": "code",
      "source": [
        "import copy\n",
        "ins=[[1,2,3],\n",
        "     [\" \",4,6],\n",
        "     [7,5,8]]\n",
        "print(\"ins=\")\n",
        "print(ins)\n",
        "g=[[1,2,3],[4,5,6],[7,8,\" \"]]\n",
        "print(\"goal=\")\n",
        "print(g)\n",
        "def emptys(a):\n",
        "    for i in range(len(a)):\n",
        "        for j in range(len(a)):\n",
        "            if(a[i][j]==\" \"):\n",
        "                return i,j\n",
        "def heuristic(p):\n",
        "    c=0\n",
        "    for i in range(len(p)):\n",
        "        for j in range(len(p)):\n",
        "            if(p[i][j]==\" \"):\n",
        "              continue\n",
        "            if(p[i][j]!=g[i][j]):\n",
        "                c=c+1\n",
        "    return c\n",
        "def swap(a,h,d,i,j):\n",
        "  temp=a[h][d]\n",
        "  a[h][d]=a[i][j]\n",
        "  a[i][j]=temp\n",
        "  return a\n",
        "def puzzle(inst):\n",
        "    i,j=emptys(inst)\n",
        "    q=[]\n",
        "    h=[]\n",
        "    if(i-1>-1):\n",
        "      t = copy.deepcopy(inst)\n",
        "      t=swap(t,i-1,j,i,j)\n",
        "      q.append(t)\n",
        "      m=heuristic(t)\n",
        "      h.append(m)\n",
        "      if(m==0):\n",
        "        v.append(t)\n",
        "        return\n",
        "      if(i+1<len(inst)):\n",
        "            t=copy.deepcopy(inst)\n",
        "            t=swap(t,i+1,j,i,j)\n",
        "            q.append(t)\n",
        "            m=heuristic(t)\n",
        "            h.append(m)\n",
        "            if(m==0):\n",
        "                v.append(t)\n",
        "                return\n",
        "      if(j-1>-1):\n",
        "            t=copy.deepcopy(inst)\n",
        "            t=swap(t,i,j-1,i,j)\n",
        "            q.append(t)\n",
        "            m=heuristic(t)\n",
        "            h.append(m)\n",
        "            if(m==0):\n",
        "              h.append(m)\n",
        "            if(m==0):\n",
        "                v.append(t)\n",
        "                return\n",
        "    if(j+1<len(inst)):\n",
        "            t=copy.deepcopy(inst)\n",
        "            t=swap(t,i,j+1,i,j)\n",
        "            q.append(t)\n",
        "            m=heuristic(t)\n",
        "            h.append(m)\n",
        "            if(m==0):\n",
        "                v.append(t)\n",
        "                return\n",
        "    n=0\n",
        "    min=10\n",
        "\n",
        "    for k in range(len(h)):\n",
        "            if(min>h[k]):\n",
        "                min=h[k]\n",
        "                n=k\n",
        "    v.append(q[n])\n",
        "    puzzle(q[n])\n",
        "v=[]\n",
        "puzzle(ins)\n",
        "for i in v:\n",
        "  print(\"v is \",i)"
      ],
      "metadata": {
        "colab": {
          "base_uri": "https://localhost:8080/"
        },
        "id": "CjiqJTFlEfch",
        "outputId": "c39b698e-7c22-42b1-c094-ab456492c7b5"
      },
      "execution_count": null,
      "outputs": [
        {
          "output_type": "stream",
          "name": "stdout",
          "text": [
            "ins=\n",
            "[[1, 2, 3], [' ', 4, 6], [7, 5, 8]]\n",
            "goal=\n",
            "[[1, 2, 3], [4, 5, 6], [7, 8, ' ']]\n",
            "v is  [[1, 2, 3], [4, ' ', 6], [7, 5, 8]]\n",
            "v is  [[1, 2, 3], [4, 5, 6], [7, ' ', 8]]\n",
            "v is  [[1, 2, 3], [4, 5, 6], [7, 8, ' ']]\n"
          ]
        }
      ]
    }
  ]
}