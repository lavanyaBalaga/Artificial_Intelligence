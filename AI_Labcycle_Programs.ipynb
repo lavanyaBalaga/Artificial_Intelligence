{
  "cells": [
    {
      "cell_type": "markdown",
      "source": [
        "## **BFS**,**DFS**"
      ],
      "metadata": {
        "id": "YwjpoUDj9qaO"
      },
      "id": "YwjpoUDj9qaO"
    },
    {
      "cell_type": "code",
      "source": [
        "def dfs(graph,node):\n",
        "    visited=[]\n",
        "    queue=[]\n",
        "    visited.append(node)\n",
        "    queue.append(node)\n",
        "    while queue:\n",
        "        m = queue.pop()\n",
        "        print(m,end=' ')\n",
        "\n",
        "        for neighbour in graph[m]:\n",
        "            if(neighbour not in visited):\n",
        "                visited.append(neighbour)\n",
        "                queue.append(neighbour)\n",
        "def bfs(graph,node):\n",
        "    visited=[]\n",
        "    queue=[]\n",
        "    visited.append(node)\n",
        "    queue.append(node)\n",
        "    while queue:\n",
        "        m = queue.pop(0)\n",
        "        print(m,end=' ')\n",
        "\n",
        "        for neighbour in graph[m]:\n",
        "            if(neighbour not in visited):\n",
        "                visited.append(neighbour)\n",
        "                queue.append(neighbour)\n",
        "\n",
        "if __name__=='__main__':\n",
        "    graph = { 5:[3,7], 3:[2,4], 7:[8], 2:[], 4:[8], 8:[] }\n",
        "    print(\"Depth first search of the given graph\",end=' ')\n",
        "    dfs(graph,5)\n",
        "    print()\n",
        "    print(\"Breadth first search of the given graph\",end=' ')\n",
        "    bfs(graph,5)"
      ],
      "metadata": {
        "colab": {
          "base_uri": "https://localhost:8080/"
        },
        "id": "1yQNXO-098pK",
        "outputId": "ccb3b35e-9dd8-4706-90e4-e9be6e4b48f7"
      },
      "id": "1yQNXO-098pK",
      "execution_count": null,
      "outputs": [
        {
          "output_type": "stream",
          "name": "stdout",
          "text": [
            "Depth first search of the given graph 5 7 8 3 4 2 \n",
            "Breadth first search of the given graph 5 3 7 2 4 8 "
          ]
        }
      ]
    },
    {
      "cell_type": "markdown",
      "source": [
        "## **UniformCost**"
      ],
      "metadata": {
        "id": "HiGLDm_p-AfC"
      },
      "id": "HiGLDm_p-AfC"
    },
    {
      "cell_type": "code",
      "source": [
        "#Uniform Cost Search\n",
        "g={'Sibiu':['Fagaras','Rimnicu Vilcea'], 'Fagaras':['Bucharest'], 'Rimnicu Vilcea':['Pitesti'], 'Pitesti':['Bucharest']}\n",
        "c={'Sibiu':[99,80], 'Fagaras':[211], 'Rimnicu Vilcea':[97], 'Pitesti':[101]}\n",
        "s='Sibiu'  #source\n",
        "d='Bucharest' #destination\n",
        "#g=eval(input('Enter graph: '))\n",
        "#c=eval(input('Enter costs: '))\n",
        "#s=input('Enter source: ')\n",
        "#d=input('Enter destination: ')\n",
        "\n",
        "q=s\n",
        "l=[]\n",
        "cost=0\n",
        "minc=[]\n",
        "\n",
        "def add():\n",
        "  k=0\n",
        "  if q not in g:\n",
        "    return\n",
        "  for i in g[q]:\n",
        "    l.append([cost+c[q][k],q,i])\n",
        "    if i==d:\n",
        "      minc.append(cost+c[q][k])\n",
        "    k+=1\n",
        "\n",
        "if q!=d:\n",
        "  add()\n",
        "\n",
        "while l:\n",
        "  j=min(l)\n",
        "  print(j)\n",
        "  q=j[2]\n",
        "  cost=j[0]\n",
        "  l.remove(j)\n",
        "\n",
        "  if q!=d:\n",
        "    add()\n",
        "\n",
        "print('Minimum cost =',min(minc))"
      ],
      "metadata": {
        "colab": {
          "base_uri": "https://localhost:8080/"
        },
        "id": "Ek5-wNLMM8OE",
        "outputId": "7f77c744-f74f-4772-c77a-d1d831d364c6"
      },
      "id": "Ek5-wNLMM8OE",
      "execution_count": null,
      "outputs": [
        {
          "output_type": "stream",
          "name": "stdout",
          "text": [
            "[80, 'Sibiu', 'Rimnicu Vilcea']\n",
            "[99, 'Sibiu', 'Fagaras']\n",
            "[177, 'Rimnicu Vilcea', 'Pitesti']\n",
            "[278, 'Pitesti', 'Bucharest']\n",
            "[310, 'Fagaras', 'Bucharest']\n",
            "Minimum cost = 278\n"
          ]
        }
      ]
    },
    {
      "cell_type": "markdown",
      "source": [
        "# **IterativeDeepening**"
      ],
      "metadata": {
        "id": "ev4S9bKO-jnC"
      },
      "id": "ev4S9bKO-jnC"
    },
    {
      "cell_type": "code",
      "source": [
        "#iterative deepening\n",
        "#g=eval(input('Enter graph: '))\n",
        "g={1:[2,5],2:[3,4],3:[8,9],5:[6,7],7:[10,11]}\n",
        "s=int(input('Enter source: '))\n",
        "t=int(input('Enter target: '))\n",
        "depth=int(input('Enter depth: '))\n",
        "\n",
        "def DFS(d):\n",
        "    visited=[s]\n",
        "    stack=[s]\n",
        "    check=[0]\n",
        "    while stack:\n",
        "        f=stack.pop()\n",
        "        print(f,end=' ')\n",
        "        p=check.pop()\n",
        "        if f==t:\n",
        "          print(' Target found within given depth')\n",
        "          return 1\n",
        "        if p+1>d:\n",
        "          continue\n",
        "        for neighbor in g[f]:\n",
        "            if neighbor not in visited:\n",
        "                check.append(p+1)\n",
        "                visited.append(neighbor)\n",
        "                stack.append(neighbor)\n",
        "    return 0\n",
        "\n",
        "def IDDFS():\n",
        "  for i in range(depth+1):\n",
        "    print('Depth',i,': ',end='')\n",
        "    if DFS(i):\n",
        "      break\n",
        "    print()\n",
        "\n",
        "IDDFS()\n",
        "#{1:[2,5],2:[3,4],3:[8,9],5:[6,7],7:[10,11]}"
      ],
      "metadata": {
        "colab": {
          "base_uri": "https://localhost:8080/"
        },
        "id": "44W3xOqxNnEs",
        "outputId": "a7f80224-70c6-4abd-a513-9431a7e2d98e"
      },
      "id": "44W3xOqxNnEs",
      "execution_count": null,
      "outputs": [
        {
          "output_type": "stream",
          "name": "stdout",
          "text": [
            "Enter source: 1\n",
            "Enter target: 7\n",
            "Enter depth: 3\n",
            "Depth 0 : 1 \n",
            "Depth 1 : 1 5 2 \n",
            "Depth 2 : 1 5 7  Target found within given depth\n"
          ]
        }
      ]
    },
    {
      "cell_type": "code",
      "source": [
        "#DLS\n",
        "def DLS(g,s,t,D):\n",
        "        if s == t :\n",
        "            return True\n",
        "        if D <= 0 :\n",
        "            return False\n",
        "        for i in graph[s]:\n",
        "            if(DLS(g,i,t,D-1)):\n",
        "                    return True\n",
        "        return False\n",
        "def IDDFS(g,s, t, D):\n",
        "        for i in range(D):\n",
        "            if (DLS(g,s, t, i)):\n",
        "                return True\n",
        "        return False\n",
        "g = {\n",
        "    0: [1, 2],\n",
        "    1: [0, 3],\n",
        "    2: [0, 3, 4],\n",
        "    3: [1, 2, 4],\n",
        "    4: [2, 3]\n",
        "}\n",
        "\n",
        "t= 6; D = 3; s = 0\n",
        "\n",
        "if IDDFS(g, s, t, D):\n",
        "    print(\"Found\")\n",
        "else:\n",
        "    print(\"Not Found\")"
      ],
      "metadata": {
        "colab": {
          "base_uri": "https://localhost:8080/"
        },
        "id": "WWcYALyEvWeu",
        "outputId": "3d52f8e1-c2c8-4be8-cc7d-2be002730489"
      },
      "id": "WWcYALyEvWeu",
      "execution_count": null,
      "outputs": [
        {
          "output_type": "stream",
          "name": "stdout",
          "text": [
            "Not Found\n"
          ]
        }
      ]
    },
    {
      "cell_type": "code",
      "source": [
        "#iterative deepening\n",
        "# graph={0:[1,2],1:[3,4],2:[5,6]}\n",
        "from collections import defaultdict\n",
        "graph = defaultdict(list)\n",
        "c=1\n",
        "while(c):\n",
        "    print('Enter edge')\n",
        "    i,j=[int(x) for x in input().split()]\n",
        "    graph[i].append(j)\n",
        "    print('Enter c')\n",
        "    c=int(input())"
      ],
      "metadata": {
        "colab": {
          "base_uri": "https://localhost:8080/"
        },
        "id": "MUjvdNXO7B2U",
        "outputId": "a059c212-f10a-4eed-c366-ad1f0bb3a31d"
      },
      "id": "MUjvdNXO7B2U",
      "execution_count": null,
      "outputs": [
        {
          "name": "stdout",
          "output_type": "stream",
          "text": [
            "Enter edge\n",
            "0 1\n",
            "Enter c\n",
            "1\n",
            "Enter edge\n",
            "0 2\n",
            "Enter c\n",
            "1\n",
            "Enter edge\n",
            "1 3\n",
            "Enter c\n",
            "1\n",
            "Enter edge\n",
            "1 4\n",
            "Enter c\n",
            "1\n",
            "Enter edge\n",
            "2 5\n",
            "Enter c\n",
            "1 \n",
            "Enter edge\n",
            "2 6\n",
            "Enter c\n",
            "0\n"
          ]
        }
      ]
    },
    {
      "cell_type": "code",
      "source": [
        "def iter_deep():\n",
        "    for i in range(m):\n",
        "        if(dfs(src, target, i)):\n",
        "            return True\n",
        "    return False\n",
        "def dfs(src, target, i):\n",
        "    if src == target:\n",
        "        return True\n",
        "    if i<=0:\n",
        "        return False\n",
        "    for j in graph[src]:\n",
        "        if dfs(j, target, i-1):\n",
        "            return True\n",
        "    return False\n",
        "src = 0\n",
        "print('Enter max depth')\n",
        "m = int(input())\n",
        "print('Enter target')\n",
        "target = int(input())\n",
        "if(iter_deep()):\n",
        "    print('Target found within the limit')\n",
        "else:\n",
        "    print('Target is not found within the limit')"
      ],
      "metadata": {
        "colab": {
          "base_uri": "https://localhost:8080/"
        },
        "id": "dKrnuvO07fAk",
        "outputId": "eb846cde-bda8-4d28-ca85-9bb5f6c17565"
      },
      "id": "dKrnuvO07fAk",
      "execution_count": null,
      "outputs": [
        {
          "output_type": "stream",
          "name": "stdout",
          "text": [
            "Enter max depth\n",
            "3\n",
            "Enter target\n",
            "7\n",
            "Target is not found within the limit\n"
          ]
        }
      ]
    },
    {
      "cell_type": "markdown",
      "source": [
        "# **BidirectionalSearch**"
      ],
      "metadata": {
        "id": "h7DGE8Zq-0Sq"
      },
      "id": "h7DGE8Zq-0Sq"
    },
    {
      "cell_type": "code",
      "source": [
        "#Bidirectional Search\n",
        "\n",
        "from collections import defaultdict\n",
        "graph=defaultdict(list)\n",
        "\n",
        "edges=eval(input('Enter edges: '))\n",
        "for i in edges:\n",
        "  graph[i[0]].append(i[1])\n",
        "  graph[i[1]].append(i[0])\n",
        "\n",
        "src=int(input('Enter initial state: '))\n",
        "dest=int(input('Enter goal state: '))\n",
        "visit_f=[src]\n",
        "visit_b=[dest]\n",
        "front_f,top_f,front_b,top_b=0,0,0,0\n",
        "def bfs_f():\n",
        "  if src==dest:\n",
        "    return src\n",
        "  global front_f,top_f\n",
        "  while front_f<=top_f:\n",
        "    s=visit_f[front_f]\n",
        "    for i in graph[s]:\n",
        "      if i not in visit_f:\n",
        "        visit_f.append(i)\n",
        "        top_f=top_f+1\n",
        "        if i in visit_b:\n",
        "          return i\n",
        "        else:\n",
        "          k=bfs_b()\n",
        "          if k!=-1: return k\n",
        "\n",
        "    front_f=front_f+1\n",
        "  return -1\n",
        "def bfs_b():\n",
        "  global front_b,top_b\n",
        "  while front_b<=top_b:\n",
        "    s=visit_b[front_b]\n",
        "    for i in graph[s]:\n",
        "      if i not in visit_b:\n",
        "        visit_b.append(i)\n",
        "        top_b=top_b+1\n",
        "        if i in visit_f:\n",
        "          return i\n",
        "        else:\n",
        "          k=bfs_f()\n",
        "          if k!=-1: return k\n",
        "    front_b=front_b+1\n",
        "  return -1\n",
        "def remove(l,g):\n",
        "  a=l.index(g)\n",
        "  for i in range(a,0,-1):\n",
        "    if [l[i],l[i-1]] not in edges and [l[i-1],l[i]] not in edges:\n",
        "      l.remove(l[i-1])\n",
        "  a=l.index(g)\n",
        "  return a\n",
        "g=bfs_f()\n",
        "if g==-1:\n",
        "  print('No intersection')\n",
        "else:\n",
        "  print('\\nIntersection Node:',g)\n",
        "  a=remove(visit_f,g)\n",
        "  b=remove(visit_b,g)\n",
        "  k=visit_f[:a]+visit_b[b::-1]\n",
        "  print('Path :',k)\n",
        "\n",
        "#[[1,2],[1,5],[2,3],[2,4],[3,8],[3,9],[5,6],[5,7],[7,10],[7,11]]"
      ],
      "metadata": {
        "colab": {
          "base_uri": "https://localhost:8080/"
        },
        "id": "8jEQgoFMN-E3",
        "outputId": "b4f22260-97bb-443c-ed95-1e840bd378c6"
      },
      "id": "8jEQgoFMN-E3",
      "execution_count": null,
      "outputs": [
        {
          "output_type": "stream",
          "name": "stdout",
          "text": [
            "Enter edges: [[1,2],[1,5],[2,3],[2,4],[3,8],[3,9],[5,6],[5,7],[7,10],[7,11]]\n",
            "Enter initial state: 1\n",
            "Enter goal state: 9\n",
            "\n",
            "Intersection Node: 2\n",
            "Path : [1, 2, 3, 9]\n"
          ]
        }
      ]
    },
    {
      "cell_type": "code",
      "execution_count": null,
      "id": "a89b7a2a",
      "metadata": {
        "id": "a89b7a2a",
        "colab": {
          "base_uri": "https://localhost:8080/"
        },
        "outputId": "aae0a128-8ff6-4796-c202-3350343a323b"
      },
      "outputs": [
        {
          "output_type": "stream",
          "name": "stdout",
          "text": [
            "('A', 8) ('C', 4) ('I', 0) \n",
            "found\n",
            "path cost is 8\n"
          ]
        }
      ],
      "source": [
        "#greedy best first\n",
        "def second(x):\n",
        "    return x[1]\n",
        "q=[]\n",
        "def best_first(graph,node,goal):\n",
        "    visited=[]\n",
        "    queue=[]\n",
        "    visited.append((node,h[node]))\n",
        "    queue.append((node,h[node]))\n",
        "    while queue:\n",
        "        t=queue.pop(0)\n",
        "        q.append(t)\n",
        "        print(t, end=\" \")\n",
        "        if t[0]==goal:\n",
        "            print(\"\\nfound\")\n",
        "            return\n",
        "        for neighbor in graph[t[0]]:\n",
        "            if (neighbor,h[neighbor]) not in visited:\n",
        "                visited.append((neighbor,h[neighbor]))\n",
        "                queue.append((neighbor,h[neighbor]))\n",
        "\n",
        "        queue.sort(key=second)\n",
        "if __name__ =='__main__':\n",
        "    #graph={ 0:[1,2], 1:[2], 2:[0,3],3:[3]}\n",
        "    #bfs(graph,2)\n",
        "    #graph={1:[2,3,4],2:[5],3:[4,5,6],4:[6],5:[7],6:[8],8:[]}\n",
        "    #h={1:40,2:32,3:25,4:35,5:19,6:17,7:10,8:0}\n",
        "    graph={'A':[\"B\",\"C\"],'B':[\"D\",\"E\",\"F\"],'C':['G','H','I','J'],\"H\":['C','I']}\n",
        "    h={'A':8,'B':10,'C':4,'D':15,'E':14,'F':12,'G':7,\"H\":2,'I':0,'J':4}\n",
        "    pc={'A':{\"B\":1,\"C\":2},'B':{\"D\":7,\"E\":9,\"F\":5},'C':{'G':4,'H':3,'I':6,'J':8},\"H\":{'C':3,'I':1}}\n",
        "    best_first(graph,'A','I')\n",
        "    pcost=0\n",
        "    for i in range(len(q)-1):\n",
        "        pcost+=pc[q[i][0]][q[i+1][0]]\n",
        "    print(\"path cost is\",pcost)"
      ]
    },
    {
      "cell_type": "markdown",
      "source": [
        "# **GreedyBestFirstSearch**"
      ],
      "metadata": {
        "id": "zQ_ztMZi_De8"
      },
      "id": "zQ_ztMZi_De8"
    },
    {
      "cell_type": "code",
      "source": [
        "#Greedy Best First Search\n",
        "from collections import defaultdict\n",
        "hc=eval(input('Enter heuristic costs: '))\n",
        "edges=eval(input('Enter edges: '))\n",
        "graph=defaultdict(list)\n",
        "for i in edges:\n",
        "  graph[i[0]].append(i[1])\n",
        "  graph[i[1]].append(i[0])\n",
        "src=input('Enter source: ')\n",
        "dest=input('Enter destination: ')\n",
        "l=[]\n",
        "s=[]\n",
        "k=src\n",
        "f=0\n",
        "while 1:\n",
        "  s.append(k)\n",
        "  if k==dest:\n",
        "    f=1\n",
        "    break\n",
        "  for i in graph[k]:\n",
        "    l.append([hc[i],i])\n",
        "  if len(l)==0:\n",
        "    break\n",
        "  m=min(l)\n",
        "  k=m[1]\n",
        "  l.remove(m)\n",
        "if f==1:\n",
        "  print(s)\n",
        "else:\n",
        "  print('No path')\n",
        "# {'a':50,'b':48,'c':36,'d':20,'e':15,'f':10,'g':0}\n",
        "# [['a','b'],['a','c'],['b','d'],['c','e'],['d','f'],['e','f'],['f','g']]"
      ],
      "metadata": {
        "colab": {
          "base_uri": "https://localhost:8080/"
        },
        "id": "UFdhdTS2OKNJ",
        "outputId": "ef92776e-0b58-4ce8-9082-fa9ca249b42a"
      },
      "id": "UFdhdTS2OKNJ",
      "execution_count": null,
      "outputs": [
        {
          "output_type": "stream",
          "name": "stdout",
          "text": [
            "Enter heuristic costs: {'a':50,'b':48,'c':36,'d':20,'e':15,'f':10,'g':0}\n",
            "Enter edges: [['a','b'],['a','c'],['b','d'],['c','e'],['d','f'],['e','f'],['f','g']]\n",
            "Enter source: a\n",
            "Enter destination: g\n",
            "['a', 'c', 'e', 'f', 'g']\n"
          ]
        }
      ]
    },
    {
      "cell_type": "code",
      "source": [
        "#greedy best_first\n",
        "a=[[0,1,1,0,0],[1,0,0,1,0],[1,0,0,0,1],[0,1,0,0,1],[0,0,1,1,0]]\n",
        "a"
      ],
      "metadata": {
        "colab": {
          "base_uri": "https://localhost:8080/"
        },
        "id": "YGUhs2-bOukn",
        "outputId": "ff59397a-4596-47d3-a669-8c594a408517"
      },
      "id": "YGUhs2-bOukn",
      "execution_count": null,
      "outputs": [
        {
          "output_type": "execute_result",
          "data": {
            "text/plain": [
              "[[0, 1, 1, 0, 0],\n",
              " [1, 0, 0, 1, 0],\n",
              " [1, 0, 0, 0, 1],\n",
              " [0, 1, 0, 0, 1],\n",
              " [0, 0, 1, 1, 0]]"
            ]
          },
          "metadata": {},
          "execution_count": 2
        }
      ]
    },
    {
      "cell_type": "code",
      "source": [
        "a=[[0,80,99,0,0],[80,0,0,97,0],[99,0,0,0,211],[0,97,0,0,101],[0,0,211,101,0]]\n",
        "a"
      ],
      "metadata": {
        "colab": {
          "base_uri": "https://localhost:8080/"
        },
        "id": "OPf2XwwfO0hg",
        "outputId": "9e99a7a5-cf4e-488d-8a71-cc549f5ffd99"
      },
      "id": "OPf2XwwfO0hg",
      "execution_count": null,
      "outputs": [
        {
          "output_type": "execute_result",
          "data": {
            "text/plain": [
              "[[0, 80, 99, 0, 0],\n",
              " [80, 0, 0, 97, 0],\n",
              " [99, 0, 0, 0, 211],\n",
              " [0, 97, 0, 0, 101],\n",
              " [0, 0, 211, 101, 0]]"
            ]
          },
          "metadata": {},
          "execution_count": 3
        }
      ]
    },
    {
      "cell_type": "code",
      "source": [
        "inst=int(input(\"enter intial state\"))\n"
      ],
      "metadata": {
        "colab": {
          "base_uri": "https://localhost:8080/"
        },
        "id": "o2awIMaDO3iK",
        "outputId": "8889e32b-a252-4707-cb83-93a17488849b"
      },
      "id": "o2awIMaDO3iK",
      "execution_count": null,
      "outputs": [
        {
          "name": "stdout",
          "output_type": "stream",
          "text": [
            "enter intial state0\n"
          ]
        }
      ]
    },
    {
      "cell_type": "code",
      "source": [
        "h=list(map(int,input(\"enter hueristic value\").split(' ')))"
      ],
      "metadata": {
        "colab": {
          "base_uri": "https://localhost:8080/"
        },
        "id": "WDZR5cqLO8aP",
        "outputId": "166dceb8-0638-428f-848e-cf126111876e"
      },
      "id": "WDZR5cqLO8aP",
      "execution_count": null,
      "outputs": [
        {
          "name": "stdout",
          "output_type": "stream",
          "text": [
            "enter hueristic value4 6 8 0 2\n"
          ]
        }
      ]
    },
    {
      "cell_type": "code",
      "source": [
        "def gbfs(j):\n",
        "    q=0\n",
        "    m=100000\n",
        "    if(j not in v):\n",
        "            #print(\"hello\")\n",
        "            v.append(j)\n",
        "            if(h[j]==0):\n",
        "                #print(\"hooo\")\n",
        "                return v\n",
        "            for i in range(len(a)-1):\n",
        "                if(a[j][i]!=0):\n",
        "                    if(i in v):\n",
        "                        continue\n",
        "                    if(h[i]==0):\n",
        "                        v.append(i)\n",
        "                        #print(\"hooo1\")\n",
        "                        return v\n",
        "                    if(h[i]<m):\n",
        "                        m=h[i]\n",
        "                        q=i\n",
        "            return(gbfs(q))"
      ],
      "metadata": {
        "id": "neu5qXaxPBLA"
      },
      "id": "neu5qXaxPBLA",
      "execution_count": null,
      "outputs": []
    },
    {
      "cell_type": "code",
      "source": [
        "v=[]\n",
        "gbfs(inst)"
      ],
      "metadata": {
        "colab": {
          "base_uri": "https://localhost:8080/"
        },
        "id": "u-xfxFzGPEJR",
        "outputId": "484c9f78-0c6a-4605-81e9-44ff97e352d9"
      },
      "id": "u-xfxFzGPEJR",
      "execution_count": null,
      "outputs": [
        {
          "output_type": "execute_result",
          "data": {
            "text/plain": [
              "[0, 1, 3]"
            ]
          },
          "metadata": {},
          "execution_count": 11
        }
      ]
    },
    {
      "cell_type": "markdown",
      "source": [
        "# **Astar**"
      ],
      "metadata": {
        "id": "CnQQxdsM_Kpa"
      },
      "id": "CnQQxdsM_Kpa"
    },
    {
      "cell_type": "code",
      "source": [
        "#a*\n",
        "a=[[0,140,118,75,0,0,0,0],[140,0,0,0,80,99,0,0],[118,0,0,0,0,0,0,0],[75,0,0,0,0,0,0,0],[0,80,0,0,0,0,97,0],[0,99,0,0,0,0,0,211],[0,0,0,0,97,0,0,101],[0,0,0,0,0,211,101,0]]\n",
        "a"
      ],
      "metadata": {
        "colab": {
          "base_uri": "https://localhost:8080/"
        },
        "id": "Krh74D5UPdNs",
        "outputId": "d62d2994-d75c-486e-e0ca-e47647168057"
      },
      "id": "Krh74D5UPdNs",
      "execution_count": null,
      "outputs": [
        {
          "output_type": "execute_result",
          "data": {
            "text/plain": [
              "[[0, 140, 118, 75, 0, 0, 0, 0],\n",
              " [140, 0, 0, 0, 80, 99, 0, 0],\n",
              " [118, 0, 0, 0, 0, 0, 0, 0],\n",
              " [75, 0, 0, 0, 0, 0, 0, 0],\n",
              " [0, 80, 0, 0, 0, 0, 97, 0],\n",
              " [0, 99, 0, 0, 0, 0, 0, 211],\n",
              " [0, 0, 0, 0, 97, 0, 0, 101],\n",
              " [0, 0, 0, 0, 0, 211, 101, 0]]"
            ]
          },
          "metadata": {},
          "execution_count": 12
        }
      ]
    },
    {
      "cell_type": "code",
      "source": [
        "inst=int(input(\"enter intial state\"))\n",
        "h=list(map(int,input(\"enter hueristic value\").split(' ')))\n",
        "def Astar(j,k):\n",
        "    q=0\n",
        "    m=100000\n",
        "    if(j not in v):\n",
        "            v.append(j)\n",
        "            if(h[j]==0):\n",
        "                v.append(k)\n",
        "                return v\n",
        "            for i in range(len(a)):\n",
        "                if(a[j][i]!=0):\n",
        "                    if(i in v):\n",
        "                        continue\n",
        "                    if(h[i]==0):\n",
        "                        v.append(i)\n",
        "                        m=a[j][i]\n",
        "                        k=k+m\n",
        "                        v.append(k)\n",
        "                        return v\n",
        "                    if(h[i]+a[j][i]<m):\n",
        "                        m=h[i]+a[j][i]\n",
        "                        q=i\n",
        "            k=k+a[j][q]\n",
        "            return(Astar(q,k))\n"
      ],
      "metadata": {
        "colab": {
          "base_uri": "https://localhost:8080/"
        },
        "id": "UBjxgKGzPhFU",
        "outputId": "b7d5c33d-b64c-40fa-b1a0-6f329d34b8c5"
      },
      "id": "UBjxgKGzPhFU",
      "execution_count": null,
      "outputs": [
        {
          "name": "stdout",
          "output_type": "stream",
          "text": [
            "enter intial state0\n",
            "enter hueristic value366 253 329 374 193 176 100 0\n"
          ]
        }
      ]
    },
    {
      "cell_type": "code",
      "source": [
        "## a* algorithm\n",
        "def second(x):\n",
        "    return x[1]\n",
        "q=[]\n",
        "def a(graph,node,goal,pc):\n",
        "    visited=[]\n",
        "    queue=[]\n",
        "    visited.append((node,h[node]))\n",
        "    queue.append((node,h[node]))\n",
        "    while queue:\n",
        "        t=queue.pop(0)\n",
        "        q.append(t)\n",
        "        print(t, end=\" \")\n",
        "        if t[0]==goal:\n",
        "            print(\"\\nfound\")\n",
        "            return\n",
        "        for neighbor in graph[t[0]]:\n",
        "            k=pc[t[0]][neighbor]+h[neighbor]\n",
        "            if (neighbor,k) not in visited:\n",
        "                visited.append((neighbor,k))\n",
        "                queue.append((neighbor,k))\n",
        "        queue.sort(key=second)\n",
        "\n",
        "if __name__ == '__main__':\n",
        "    graph = {'A': [\"B\", \"C\"], 'B': [\"D\", \"E\", \"F\"], 'C': ['G', 'H', 'I', 'J'], \"H\": ['C', 'I']}\n",
        "    h = {'A': 8, 'B': 10, 'C': 4, 'D': 15, 'E': 14, 'F': 12, 'G': 7, \"H\": 2, 'I': 0, 'J': 4}\n",
        "    pc = {'A': {\"B\": 1, \"C\": 2}, 'B': {\"D\": 7, \"E\": 9, \"F\": 5}, 'C': {'G': 4, 'H': 3, 'I': 6, 'J': 8}, \"H\": {'C': 3, 'I': 1}}\n",
        "    a(graph, 'A', 'I', pc)\n",
        "    pcost = 0\n",
        "    for i in range(len(q) - 1):\n",
        "        pcost += pc[q[i][0]][q[i + 1][0]]\n",
        "    print(\"path cost is\", pcost)"
      ],
      "metadata": {
        "id": "qRatEDe3z8OS",
        "colab": {
          "base_uri": "https://localhost:8080/"
        },
        "outputId": "2ff743f2-608c-4a91-ae62-a4d718d9b8c3"
      },
      "id": "qRatEDe3z8OS",
      "execution_count": null,
      "outputs": [
        {
          "output_type": "stream",
          "name": "stdout",
          "text": [
            "('A', 8) ('C', 6) ('H', 5) ('I', 1) \n",
            "found\n",
            "path cost is 6\n"
          ]
        }
      ]
    },
    {
      "cell_type": "markdown",
      "source": [
        "# **Waterjug**"
      ],
      "metadata": {
        "id": "nPy4ycA1_aJT"
      },
      "id": "nPy4ycA1_aJT"
    },
    {
      "cell_type": "code",
      "source": [
        "jug1=int(input(\"Enter capacity of jug1:\"))\n",
        "jug2=int(input(\"Enter capacity of jug2:\"))\n",
        "target=int(input(\"Enter target capacity:\"))\n",
        "def rules(x,y,choice):\n",
        "  if(choice==1):\n",
        "    if(x<jug1):\n",
        "      return jug1,y\n",
        "    else:\n",
        "      return x,y\n",
        "  if(choice==2):\n",
        "    if(y<jug2):\n",
        "      return x,jug2\n",
        "    else:\n",
        "      return x,y\n",
        "  if(choice==3):\n",
        "    if(x>0):\n",
        "      return 0,y\n",
        "    else:\n",
        "      return x,y\n",
        "  if(choice==4):\n",
        "    if(y>0):\n",
        "      return x,0\n",
        "    else:\n",
        "      return x,y\n",
        "  if(choice==5):\n",
        "    if((x+y)>=3 and x>0):\n",
        "      return (x-(3-y)),3\n",
        "    else:\n",
        "      return x,y\n",
        "  if(choice==6):\n",
        "    if((x+y)>=5 and y>0):\n",
        "      return 5,(y-(5-x))\n",
        "    else:\n",
        "      return x,y\n",
        "  if(choice==7):\n",
        "    if(x>0 and (x+y)<=3):\n",
        "      return 0,x+y\n",
        "    else:\n",
        "      return x,y\n",
        "  if(choice==8):\n",
        "    if(y>0 and (x+y)<=5):\n",
        "      return x+y,0\n",
        "    else:\n",
        "      return x,y\n",
        "  else:\n",
        "    print(\"Invalid choice\")"
      ],
      "metadata": {
        "colab": {
          "base_uri": "https://localhost:8080/"
        },
        "id": "V2Gz_Ca663Dq",
        "outputId": "333ecdf3-88ce-4385-e95e-bcaff95e9075"
      },
      "id": "V2Gz_Ca663Dq",
      "execution_count": null,
      "outputs": [
        {
          "name": "stdout",
          "output_type": "stream",
          "text": [
            "Enter capacity of jug1:5\n",
            "Enter capacity of jug2:3\n",
            "Enter target capacity:4\n"
          ]
        }
      ]
    },
    {
      "cell_type": "code",
      "source": [
        "def bfs(choice_list,start,goal):\n",
        "  queue=[]\n",
        "  visited=[]\n",
        "  if(start[0]==goal or start[1]==goal):\n",
        "    visited.append(start)\n",
        "    return visited\n",
        "  queue.append(start)\n",
        "  while(queue):\n",
        "    t=queue.pop(0)\n",
        "    visited.append(t)\n",
        "    if(t[0]==goal or t[1]==goal):\n",
        "      return visited\n",
        "    for i in choice_list:\n",
        "      r=list(rules(t[0],t[1],i))\n",
        "      if(r[0]==goal or r[1]==goal):\n",
        "        visited.append(r)\n",
        "        return visited\n",
        "      elif(r not in visited):\n",
        "        queue.append(r)\n",
        "choice_list=[1,2,3,4,5,6,7,8]\n",
        "start=[0,0]\n",
        "v=bfs(choice_list,start,target)\n",
        "for i in v:\n",
        "  print(i,end=\" \")"
      ],
      "metadata": {
        "colab": {
          "base_uri": "https://localhost:8080/"
        },
        "id": "yiE4RcEG8tv0",
        "outputId": "dcbe8ade-01a6-4a48-ff36-7733df15c90c"
      },
      "id": "yiE4RcEG8tv0",
      "execution_count": null,
      "outputs": [
        {
          "output_type": "stream",
          "name": "stdout",
          "text": [
            "[0, 0] [5, 0] [0, 3] [5, 3] [2, 3] [5, 3] [3, 0] [2, 0] [3, 3] [0, 2] [5, 1] [5, 2] [4, 3] "
          ]
        }
      ]
    },
    {
      "cell_type": "code",
      "source": [
        "def dfs(choice_list,start,goal):\n",
        "  queue=[]\n",
        "  visited=[]\n",
        "  if(start[0]==goal or start[1]==goal):\n",
        "    visited.append(start)\n",
        "    return visited\n",
        "  queue.append(start)\n",
        "  while(queue):\n",
        "    t=queue.pop()\n",
        "    visited.append(t)\n",
        "    if(t[0]==goal or t[1]==goal):\n",
        "      return visited\n",
        "    for i in choice_list:\n",
        "      r=list(rules(t[0],t[1],i))\n",
        "      if(r[0]==goal or r[1]==goal):\n",
        "        visited.append(r)\n",
        "        return visited\n",
        "      elif(r not in visited):\n",
        "        queue.append(r)\n",
        "choice_list=[1,2,3,4,5,6,7,8]\n",
        "start=[0,0]\n",
        "v2=dfs(choice_list,start,target)\n",
        "for i in v:\n",
        "  print(i,end=\" \")"
      ],
      "metadata": {
        "colab": {
          "base_uri": "https://localhost:8080/"
        },
        "id": "UUiBvDxb-RDL",
        "outputId": "cbb7d42a-c0a5-4d79-f24e-45b2c2191b21"
      },
      "id": "UUiBvDxb-RDL",
      "execution_count": null,
      "outputs": [
        {
          "output_type": "stream",
          "name": "stdout",
          "text": [
            "[0, 0] [5, 0] [0, 3] [5, 3] [2, 3] [5, 3] [3, 0] [2, 0] [3, 3] [0, 2] [5, 1] [5, 2] [4, 3] "
          ]
        }
      ]
    },
    {
      "cell_type": "markdown",
      "source": [
        "# **missionariesandcannibels**"
      ],
      "metadata": {
        "id": "KGMZvAXS_fXq"
      },
      "id": "KGMZvAXS_fXq"
    },
    {
      "cell_type": "code",
      "source": [
        "#missionaries and cannibels\n",
        "def valid_state(s):\n",
        "    ml, cl, mr, cr, b = s\n",
        "    if (ml < 0 or cl < 0 or mr < 0 or cr < 0 or\n",
        "            (ml != 0 and ml < cl) or\n",
        "            (mr != 0 and mr < cr)):\n",
        "        return False\n",
        "    return True\n",
        "def next_states(s):\n",
        "    ml, cl, mr, cr, b = s\n",
        "    possible_states = []\n",
        "    if b == 'left':\n",
        "        for m in range(3):\n",
        "            for c in range(3):\n",
        "                if m + c > 2 or m + c == 0:\n",
        "                    continue\n",
        "                new_state = (ml - m, cl - c, mr + m, cr + c, 'right')\n",
        "                if valid_state(new_state):\n",
        "                    possible_states.append(new_state)\n",
        "    else:\n",
        "        for m in range(3):\n",
        "            for c in range(3):\n",
        "                if m + c > 2 or m + c == 0:\n",
        "                    continue\n",
        "                new_state = (ml + m, cl + c, mr - m, cr - c, 'left')\n",
        "                if valid_state(new_state):\n",
        "                    possible_states.append(new_state)\n",
        "    return possible_states"
      ],
      "metadata": {
        "id": "ryDtwjz17EIF"
      },
      "id": "ryDtwjz17EIF",
      "execution_count": null,
      "outputs": []
    },
    {
      "cell_type": "code",
      "source": [
        "from collections import deque\n",
        "def bfs(start, goal):\n",
        "    visited =set()\n",
        "    queue = deque([(start, [])])\n",
        "    while queue:\n",
        "        current, path = queue.popleft()\n",
        "        visited.add(current)\n",
        "        if current== goal:\n",
        "            return path\n",
        "        for next in next_states(current):\n",
        "            if next not in visited:\n",
        "                queue.append((next, path + [next]))\n",
        "                visited.add(next)\n",
        "    return []\n",
        "start = (3, 3, 0, 0, 'left')\n",
        "goal = (0, 0, 3, 3, 'right')\n",
        "\n",
        "solution = bfs(start, goal)\n",
        "if solution:\n",
        "    for i, state in enumerate(solution):\n",
        "        print(f\"Step {i+1}:{state}\")\n",
        "else:\n",
        "    print(\"No solution found.\")"
      ],
      "metadata": {
        "colab": {
          "base_uri": "https://localhost:8080/"
        },
        "id": "tUzpV8wj7OB_",
        "outputId": "b8a97dfc-b45a-451c-bb99-86c02fcffcbb"
      },
      "id": "tUzpV8wj7OB_",
      "execution_count": null,
      "outputs": [
        {
          "output_type": "stream",
          "name": "stdout",
          "text": [
            "Step 1:(3, 1, 0, 2, 'right')\n",
            "Step 2:(3, 2, 0, 1, 'left')\n",
            "Step 3:(3, 0, 0, 3, 'right')\n",
            "Step 4:(3, 1, 0, 2, 'left')\n",
            "Step 5:(1, 1, 2, 2, 'right')\n",
            "Step 6:(2, 2, 1, 1, 'left')\n",
            "Step 7:(0, 2, 3, 1, 'right')\n",
            "Step 8:(0, 3, 3, 0, 'left')\n",
            "Step 9:(0, 1, 3, 2, 'right')\n",
            "Step 10:(0, 2, 3, 1, 'left')\n",
            "Step 11:(0, 0, 3, 3, 'right')\n"
          ]
        }
      ]
    },
    {
      "cell_type": "code",
      "source": [
        "def dfs(current, goal, path, visited):\n",
        "    visited.add(current)\n",
        "    if current== goal:\n",
        "        return path\n",
        "    for next in next_states(current):\n",
        "        if next not in visited:\n",
        "            solution = dfs(next, goal, path + [next], visited)\n",
        "            if solution:\n",
        "                return solution\n",
        "    return None\n",
        "start = (3, 3, 0, 0, 'left')\n",
        "goal= (0, 0, 3, 3, 'right')\n",
        "visited = set()\n",
        "solution = dfs(start, goal, [start], visited)\n",
        "if solution:\n",
        "    for i, state in enumerate(solution):\n",
        "        print(f\"Step {i+1}: {state}\")\n",
        "else:\n",
        "    print(\"No solution found.\")"
      ],
      "metadata": {
        "colab": {
          "base_uri": "https://localhost:8080/"
        },
        "id": "QKBCXf9g7Qzt",
        "outputId": "120ea1bc-6e61-4b05-980a-c917a4527ef5"
      },
      "id": "QKBCXf9g7Qzt",
      "execution_count": null,
      "outputs": [
        {
          "output_type": "stream",
          "name": "stdout",
          "text": [
            "Step 1: (3, 3, 0, 0, 'left')\n",
            "Step 2: (3, 1, 0, 2, 'right')\n",
            "Step 3: (3, 2, 0, 1, 'left')\n",
            "Step 4: (3, 0, 0, 3, 'right')\n",
            "Step 5: (3, 1, 0, 2, 'left')\n",
            "Step 6: (1, 1, 2, 2, 'right')\n",
            "Step 7: (2, 2, 1, 1, 'left')\n",
            "Step 8: (0, 2, 3, 1, 'right')\n",
            "Step 9: (0, 3, 3, 0, 'left')\n",
            "Step 10: (0, 1, 3, 2, 'right')\n",
            "Step 11: (0, 2, 3, 1, 'left')\n",
            "Step 12: (0, 0, 3, 3, 'right')\n"
          ]
        }
      ]
    },
    {
      "cell_type": "markdown",
      "source": [
        "# **8puzzleproblemusingAstaralgorithm**"
      ],
      "metadata": {
        "id": "wpHxj4QW_mY6"
      },
      "id": "wpHxj4QW_mY6"
    },
    {
      "cell_type": "code",
      "source": [
        "#8-puzzle problem using A* algorithm\n",
        "class Node:\n",
        "    def __init__(self,data,level,fval):\n",
        "        self.data = data\n",
        "        self.level = level\n",
        "        self.fval = fval\n",
        "    def generate_child(self):\n",
        "        x,y = self.find(self.data,'_')\n",
        "        val_list = [[x,y-1],[x,y+1],[x-1,y],[x+1,y]]\n",
        "        children = []\n",
        "        for i in val_list:\n",
        "            child = self.shuffle(self.data,x,y,i[0],i[1])\n",
        "            if child is not None:\n",
        "                child_node = Node(child,self.level+1,0)\n",
        "                children.append(child_node)\n",
        "        return children\n",
        "    def shuffle(self,puz,x1,y1,x2,y2):\n",
        "        if x2 >= 0 and x2 < len(self.data) and y2 >= 0 and y2 < len(self.data):\n",
        "            temp_puz = []\n",
        "            temp_puz = self.copy(puz)\n",
        "            temp = temp_puz[x2][y2]\n",
        "            temp_puz[x2][y2] = temp_puz[x1][y1]\n",
        "            temp_puz[x1][y1] = temp\n",
        "            return temp_puz\n",
        "        else:\n",
        "            return None\n",
        "    def copy(self,root):\n",
        "        temp = []\n",
        "        for i in root:\n",
        "            t = []\n",
        "            for j in i:\n",
        "                t.append(j)\n",
        "            temp.append(t)\n",
        "        return temp\n",
        "    def find(self,puz,x):\n",
        "\n",
        "        for i in range(0,len(self.data)):\n",
        "            for j in range(0,len(self.data)):\n",
        "                if puz[i][j] == x:\n",
        "                    return i,j\n",
        "class Puzzle:\n",
        "    def __init__(self,size):\n",
        "        self.n = size\n",
        "        self.open = []\n",
        "        self.closed = []\n",
        "    def accept(self):\n",
        "        puz = []\n",
        "        for i in range(0,self.n):\n",
        "            temp = input().split(\" \")\n",
        "            puz.append(temp)\n",
        "        return puz\n",
        "    def f(self,start,goal):\n",
        "        return self.h(start.data,goal)+start.level\n",
        "    def h(self,start,goal):\n",
        "        temp = 0\n",
        "        for i in range(0,self.n):\n",
        "            for j in range(0,self.n):\n",
        "                if start[i][j] != goal[i][j] and start[i][j] != '_':\n",
        "                    temp += 1\n",
        "        return temp\n",
        "    def process(self):\n",
        "        print(\"Enter the start state matrix \\n\")\n",
        "        start = self.accept()\n",
        "        print(\"Enter the goal state matrix \\n\")\n",
        "        goal = self.accept()\n",
        "        start = Node(start,0,0)\n",
        "        start.fval = self.f(start,goal)\n",
        "        self.open.append(start)\n",
        "        print(\"\\n\")\n",
        "        while True:\n",
        "            cur = self.open[0]\n",
        "            print(\"\\n\")\n",
        "            for i in cur.data:\n",
        "                for j in i:\n",
        "                    print(j,end=\" \")\n",
        "                print(\"\")\n",
        "            if(self.h(cur.data,goal) == 0):\n",
        "                break\n",
        "            for i in cur.generate_child():\n",
        "                i.fval = self.f(i,goal)\n",
        "                self.open.append(i)\n",
        "            self.closed.append(cur)\n",
        "            del self.open[0]\n",
        "            self.open.sort(key = lambda x:x.fval,reverse=False)\n",
        "puz = Puzzle(3)\n",
        "puz.process()"
      ],
      "metadata": {
        "colab": {
          "base_uri": "https://localhost:8080/"
        },
        "id": "T6MflZFc_Zp5",
        "outputId": "b5fd5a42-8484-47b3-9acd-f6ec46827f17"
      },
      "id": "T6MflZFc_Zp5",
      "execution_count": null,
      "outputs": [
        {
          "output_type": "stream",
          "name": "stdout",
          "text": [
            "Enter the start state matrix \n",
            "\n",
            "1 2 3\n",
            "_ 4 6\n",
            "7 5 8\n",
            "Enter the goal state matrix \n",
            "\n",
            "1 2 3\n",
            "4 5 6\n",
            "7 8 _\n",
            "\n",
            "\n",
            "\n",
            "\n",
            "1 2 3 \n",
            "_ 4 6 \n",
            "7 5 8 \n",
            "\n",
            "\n",
            "1 2 3 \n",
            "4 _ 6 \n",
            "7 5 8 \n",
            "\n",
            "\n",
            "1 2 3 \n",
            "4 5 6 \n",
            "7 _ 8 \n",
            "\n",
            "\n",
            "1 2 3 \n",
            "4 5 6 \n",
            "7 8 _ \n"
          ]
        }
      ]
    },
    {
      "cell_type": "markdown",
      "source": [
        "# **AOSTAR**"
      ],
      "metadata": {
        "id": "99KbJTlD_xES"
      },
      "id": "99KbJTlD_xES"
    },
    {
      "cell_type": "code",
      "source": [
        "#AO* Approach\n",
        "def Cost(H, condition, weight = 1):\n",
        "    cost = {}\n",
        "    if 'AND' in condition:\n",
        "        AND_nodes = condition['AND']\n",
        "        Path_A = ' AND '.join(AND_nodes)\n",
        "        PathA = sum(H[node]+weight for node in AND_nodes)\n",
        "        cost[Path_A] = PathA\n",
        "\n",
        "    if 'OR' in condition:\n",
        "        OR_nodes = condition['OR']\n",
        "        Path_B =' OR '.join(OR_nodes)\n",
        "        PathB = min(H[node]+weight for node in OR_nodes)\n",
        "        cost[Path_B] = PathB\n",
        "    return cost\n",
        "def update_cost(H, Conditions, weight=1):\n",
        "    Main_nodes = list(Conditions.keys())\n",
        "    Main_nodes.reverse()\n",
        "    least_cost= {}\n",
        "    for key in Main_nodes:\n",
        "        condition = Conditions[key]\n",
        "        print(key,':', Conditions[key],'>>>', Cost(H, condition, weight))\n",
        "        c = Cost(H, condition, weight)\n",
        "        H[key] = min(c.values())\n",
        "        least_cost[key] = Cost(H, condition, weight)\n",
        "    return least_cost\n",
        "def shortest_path(Start,Updated_cost, H):\n",
        "    Path = Start\n",
        "    if Start in Updated_cost.keys():\n",
        "        Min_cost = min(Updated_cost[Start].values())\n",
        "        key = list(Updated_cost[Start].keys())\n",
        "        values = list(Updated_cost[Start].values())\n",
        "        Index = values.index(Min_cost)\n",
        "        Next = key[Index].split()\n",
        "        if len(Next) == 1:\n",
        "            Start =Next[0]\n",
        "            Path += '<--' +shortest_path(Start, Updated_cost, H)\n",
        "        else:\n",
        "            Path +='<--('+key[Index]+') '\n",
        "            Start = Next[0]\n",
        "            Path += '[' +shortest_path(Start, Updated_cost, H) + ' + '\n",
        "            Start = Next[-1]\n",
        "            Path += shortest_path(Start, Updated_cost, H) + ']'\n",
        "    return Path\n",
        "H = {'A': -1, 'B': 5, 'C': 2, 'D': 4, 'E': 7, 'F': 9, 'G': 3, 'H': 0, 'I':0, 'J':0}\n",
        "Conditions = {\n",
        "'A': {'OR': ['B'], 'AND': ['C', 'D']},\n",
        "'B': {'OR': ['E', 'F']},\n",
        "'C': {'OR': ['G'], 'AND': ['H', 'I']},\n",
        "'D': {'OR': ['J']}\n",
        "}\n",
        "weight = 1\n",
        "print('Updated Cost :')\n",
        "Updated_cost = update_cost(H, Conditions, weight=1)\n",
        "print('*'*75)\n",
        "print('Shortest Path :\\n',shortest_path('A', Updated_cost,H))\n"
      ],
      "metadata": {
        "colab": {
          "base_uri": "https://localhost:8080/"
        },
        "id": "6LkgqO95B5uf",
        "outputId": "7a97f347-70ef-4626-8893-fcc046f18423"
      },
      "id": "6LkgqO95B5uf",
      "execution_count": null,
      "outputs": [
        {
          "output_type": "stream",
          "name": "stdout",
          "text": [
            "Updated Cost :\n",
            "D : {'OR': ['J']} >>> {'J': 1}\n",
            "C : {'OR': ['G'], 'AND': ['H', 'I']} >>> {'H AND I': 2, 'G': 4}\n",
            "B : {'OR': ['E', 'F']} >>> {'E OR F': 8}\n",
            "A : {'OR': ['B'], 'AND': ['C', 'D']} >>> {'C AND D': 5, 'B': 9}\n",
            "***************************************************************************\n",
            "Shortest Path :\n",
            " A<--(C AND D) [C<--(H AND I) [H + I] + D<--J]\n"
          ]
        }
      ]
    },
    {
      "cell_type": "markdown",
      "source": [
        "# **MINIMAXALGO**"
      ],
      "metadata": {
        "id": "lZ2bTUce_-DK"
      },
      "id": "lZ2bTUce_-DK"
    },
    {
      "cell_type": "code",
      "source": [
        "import math\n",
        "def minimax (curDepth, nodeIndex,maxTurn, scores,targetDepth):\n",
        "    if (curDepth == targetDepth):\n",
        "        return scores[nodeIndex]\n",
        "    if (maxTurn):\n",
        "        return max(minimax(curDepth + 1, nodeIndex * 2,False, scores, targetDepth),minimax(curDepth + 1, nodeIndex * 2 + 1,False, scores, targetDepth))\n",
        "    else:\n",
        "        return min(minimax(curDepth + 1, nodeIndex * 2,True, scores, targetDepth),minimax(curDepth + 1, nodeIndex * 2 + 1,True, scores, targetDepth))\n",
        "scores = [3, 5, 2, 9, 12, 5, 23, 23]\n",
        "\n",
        "treeDepth = math.log(len(scores), 2)\n",
        "\n",
        "print(\"The optimal value is : \", end = \"\")\n",
        "print(minimax(0, 0, True, scores, treeDepth))"
      ],
      "metadata": {
        "colab": {
          "base_uri": "https://localhost:8080/"
        },
        "id": "V5h9WUBZJ9qK",
        "outputId": "6e160b0b-eb3f-4d7a-8bfa-63a8bd40d9b2"
      },
      "id": "V5h9WUBZJ9qK",
      "execution_count": null,
      "outputs": [
        {
          "output_type": "stream",
          "name": "stdout",
          "text": [
            "The optimal value is : 12\n"
          ]
        }
      ]
    },
    {
      "cell_type": "markdown",
      "source": [
        "# **ALPHABETAPRUNING**"
      ],
      "metadata": {
        "id": "uCP2A0QwAA_C"
      },
      "id": "uCP2A0QwAA_C"
    },
    {
      "cell_type": "code",
      "source": [
        "#alpha-beeta pruning\n",
        "MAX, MIN = 1000, -1000\n",
        "def minimax(depth, nodeIndex, maximizingPlayer,values, alpha, beta):\n",
        "    if depth == 3:\n",
        "        return values[nodeIndex]\n",
        "    if maximizingPlayer:\n",
        "        best = MIN\n",
        "        for i in range(0, 2):\n",
        "            val = minimax(depth + 1, nodeIndex * 2 + i,False, values, alpha, beta)\n",
        "            best = max(best, val)\n",
        "            alpha = max(alpha, best)\n",
        "            if beta <= alpha:\n",
        "                break\n",
        "        return best\n",
        "    else:\n",
        "        best = MAX\n",
        "        for i in range(0, 2):\n",
        "            val = minimax(depth + 1, nodeIndex * 2 + i,True, values, alpha, beta)\n",
        "            best = min(best, val)\n",
        "            beta = min(beta, best)\n",
        "            if beta <= alpha:\n",
        "                break\n",
        "        return best\n",
        "if __name__ == \"__main__\":\n",
        "    values = [3, 5, 2, 9, 12, 5, 23, 23]\n",
        "    print(\"The optimal value is :\", minimax(0, 0, True, values, MIN, MAX))"
      ],
      "metadata": {
        "colab": {
          "base_uri": "https://localhost:8080/"
        },
        "id": "YX6n-mRLKGHq",
        "outputId": "35c316fc-73d9-457c-c81f-f1516343bd23"
      },
      "id": "YX6n-mRLKGHq",
      "execution_count": null,
      "outputs": [
        {
          "output_type": "stream",
          "name": "stdout",
          "text": [
            "The optimal value is : 12\n"
          ]
        }
      ]
    },
    {
      "cell_type": "markdown",
      "source": [
        "# **VACCUMWORLD**"
      ],
      "metadata": {
        "id": "w2HqHTKjAEZJ"
      },
      "id": "w2HqHTKjAEZJ"
    },
    {
      "cell_type": "code",
      "source": [
        "#vaccumworld\n",
        "d={}\n",
        "d[1]=[1,5,2]\n",
        "d[2]=[1,4,2]\n",
        "d[3]=[3,7,4]\n",
        "d[4]=[3,4,4]\n",
        "d[5]=[5,5,6]\n",
        "d[6]=[5,8,6]\n",
        "print(d)"
      ],
      "metadata": {
        "colab": {
          "base_uri": "https://localhost:8080/"
        },
        "id": "CDofZPnfGIYp",
        "outputId": "1de521ca-77ec-4bf3-c93a-638f763b3526"
      },
      "id": "CDofZPnfGIYp",
      "execution_count": null,
      "outputs": [
        {
          "output_type": "stream",
          "name": "stdout",
          "text": [
            "{1: [1, 5, 2], 2: [1, 4, 2], 3: [3, 7, 4], 4: [3, 4, 4], 5: [5, 5, 6], 6: [5, 8, 6]}\n"
          ]
        }
      ]
    },
    {
      "cell_type": "code",
      "source": [
        "k={}\n",
        "k[1]=[\"(dirt,vaccum)  ,  (dirt)\"]\n",
        "k[2]=[\"(dirt)         , (dirt,vaccum)\"]\n",
        "k[3]=[\"(dirt,vaccum)  ,  (clean)\"]\n",
        "k[4]=[\"(dirt)         , (clean,vaccum)\"]\n",
        "k[5]=[\"(clean,vaccum) , (dirt)\"]\n",
        "k[6]=[\"(clean)        ,   (dirt,vaccum)\"]\n",
        "k[7]=[\"(clean,vaccum) , (clean)\"]\n",
        "k[8]=[\"(clean)        ,   (clean,vaccum)\"]\n"
      ],
      "metadata": {
        "id": "6xCxlHMzGMNS"
      },
      "id": "6xCxlHMzGMNS",
      "execution_count": null,
      "outputs": []
    },
    {
      "cell_type": "code",
      "source": [
        "ins=int(input(\"enter initial state\"))"
      ],
      "metadata": {
        "colab": {
          "base_uri": "https://localhost:8080/"
        },
        "id": "DaBzGLxUGQkk",
        "outputId": "503d0537-1f6c-4998-9717-b11339f2c062"
      },
      "id": "DaBzGLxUGQkk",
      "execution_count": null,
      "outputs": [
        {
          "name": "stdout",
          "output_type": "stream",
          "text": [
            "enter initial state1\n"
          ]
        }
      ]
    },
    {
      "cell_type": "code",
      "source": [
        "def vaccum_bfs():\n",
        "    v=[]\n",
        "    q=[]\n",
        "    g=[7,8]\n",
        "    m=[]\n",
        "    q.append(ins)\n",
        "    while(len(q)!=0):\n",
        "        j=q.pop(0)\n",
        "        if(j not in v):\n",
        "            v.append(j)\n",
        "            if(j in g):\n",
        "                return v,m\n",
        "            p=d[j]\n",
        "            for i in range(3):\n",
        "                if(p[i] not in v):\n",
        "                    q.append(p[i])\n",
        "                    if(i==0):\n",
        "                        m.append(\"left\")\n",
        "                    elif(i==1):\n",
        "                        m.append(\"suck\")\n",
        "                    else:\n",
        "                        m.append(\"right\")\n",
        "    return -1,-1\n"
      ],
      "metadata": {
        "id": "vkwCydGvGYbG"
      },
      "id": "vkwCydGvGYbG",
      "execution_count": null,
      "outputs": []
    },
    {
      "cell_type": "code",
      "source": [
        "a,b=vaccum_bfs()\n",
        "if(a==-1 or b==-1):\n",
        "    print(\"cannot reach goal state\")\n",
        "else:\n",
        "    for i in range(len(a)):\n",
        "        print(k[a[i]],   a[i])\n",
        "        print(b[i])"
      ],
      "metadata": {
        "colab": {
          "base_uri": "https://localhost:8080/"
        },
        "id": "i0R1_knHGbQV",
        "outputId": "15f170d4-ad64-4330-dd0e-123cb6cb410e"
      },
      "id": "i0R1_knHGbQV",
      "execution_count": null,
      "outputs": [
        {
          "output_type": "stream",
          "name": "stdout",
          "text": [
            "['(dirt,vaccum)  ,  (dirt)'] 1\n",
            "suck\n",
            "['(clean,vaccum) , (dirt)'] 5\n",
            "right\n",
            "['(dirt)         , (dirt,vaccum)'] 2\n",
            "right\n",
            "['(clean)        ,   (dirt,vaccum)'] 6\n",
            "suck\n",
            "['(dirt)         , (clean,vaccum)'] 4\n",
            "suck\n",
            "['(clean)        ,   (clean,vaccum)'] 8\n",
            "left\n"
          ]
        }
      ]
    },
    {
      "cell_type": "code",
      "source": [
        "def vaccum_dfs():\n",
        "    v=[]\n",
        "    q=[]\n",
        "    g=[7,8]\n",
        "    m=[]\n",
        "    q.append(ins)\n",
        "    while(len(q)!=0):\n",
        "        j=q.pop()\n",
        "        if(j not in v):\n",
        "            v.append(j)\n",
        "            if(j in g):\n",
        "                return v,m\n",
        "            p=d[j]\n",
        "            for i in range(3):\n",
        "                if(p[i] not in v):\n",
        "                    q.append(p[i])\n",
        "                    if(i==0):\n",
        "                        m.append(\"left\")\n",
        "                    elif(i==1):\n",
        "                        m.append(\"suck\")\n",
        "                    else:\n",
        "                        m.append(\"right\")\n",
        "    return -1,-1\n"
      ],
      "metadata": {
        "id": "ItKokNnhGgxg"
      },
      "id": "ItKokNnhGgxg",
      "execution_count": null,
      "outputs": []
    },
    {
      "cell_type": "code",
      "source": [
        "a,b=vaccum_dfs()\n",
        "if(a==-1 or b==-1):\n",
        "    print(\"cannot reach goal state\")\n",
        "else:\n",
        "    for i in range(len(a)):\n",
        "        print(k[a[i]],   a[i])\n",
        "        print(b[i])"
      ],
      "metadata": {
        "colab": {
          "base_uri": "https://localhost:8080/"
        },
        "id": "Id29nmceGl5x",
        "outputId": "7d093809-5403-4411-af81-ffa1bcadb7a9"
      },
      "id": "Id29nmceGl5x",
      "execution_count": null,
      "outputs": [
        {
          "output_type": "stream",
          "name": "stdout",
          "text": [
            "['(dirt,vaccum)  ,  (dirt)'] 1\n",
            "suck\n",
            "['(dirt)         , (dirt,vaccum)'] 2\n",
            "right\n",
            "['(dirt)         , (clean,vaccum)'] 4\n",
            "suck\n",
            "['(dirt,vaccum)  ,  (clean)'] 3\n",
            "left\n",
            "['(clean,vaccum) , (clean)'] 7\n",
            "suck\n"
          ]
        }
      ]
    },
    {
      "cell_type": "code",
      "source": [
        "#vaccum\n",
        "queue = [[[1,1],[0,1]]]\n",
        "visited=[]\n",
        "target=[[[1,0],[0,0]],[[0,0],[1,0]]]\n",
        "def bfs():\n",
        "    while(len(queue)):\n",
        "        x = queue.pop(0)\n",
        "        visited.append(x)\n",
        "        if x in target:\n",
        "            print('Target reached')\n",
        "            print(x)\n",
        "            return\n",
        "        left = x[0]\n",
        "        right = x[1]\n",
        "        if left[0]:\n",
        "            if left[1]:\n",
        "                v=[[1,0],right]\n",
        "                if v not in visited and v not in queue:\n",
        "                    queue.append(v)\n",
        "            v=[[0,left[1]],[1,right[1]]]\n",
        "            if v not in visited and v not in queue:\n",
        "                queue.append(v)\n",
        "        if right[0]:\n",
        "            if right[1]:\n",
        "                v=[left,[1,0]]\n",
        "                if v not in visited and v not in queue:\n",
        "                    queue.append(v)\n",
        "            v = [[1,left[1]],[0,right[1]]]\n",
        "            if v not in visited and v not in queue:\n",
        "                queue.append(v)\n",
        "bfs()\n",
        "visited"
      ],
      "metadata": {
        "colab": {
          "base_uri": "https://localhost:8080/"
        },
        "id": "wy_-CTnU89eb",
        "outputId": "03690b97-4147-482e-ed78-faabf2d58f15"
      },
      "id": "wy_-CTnU89eb",
      "execution_count": null,
      "outputs": [
        {
          "output_type": "stream",
          "name": "stdout",
          "text": [
            "Target reached\n",
            "[[0, 0], [1, 0]]\n"
          ]
        },
        {
          "output_type": "execute_result",
          "data": {
            "text/plain": [
              "[[[1, 1], [0, 1]],\n",
              " [[1, 0], [0, 1]],\n",
              " [[0, 1], [1, 1]],\n",
              " [[0, 0], [1, 1]],\n",
              " [[0, 1], [1, 0]],\n",
              " [[0, 0], [1, 0]]]"
            ]
          },
          "metadata": {},
          "execution_count": 10
        }
      ]
    },
    {
      "cell_type": "markdown",
      "source": [
        "# **CRYPTARITHMETIC**"
      ],
      "metadata": {
        "id": "-8u4oDWPAJfT"
      },
      "id": "-8u4oDWPAJfT"
    },
    {
      "cell_type": "code",
      "source": [
        "import itertools\n",
        "def get_value(word, substitution):\n",
        "    s = 0\n",
        "    factor = 1\n",
        "    for letter in reversed(word):\n",
        "        s += factor * substitution[letter]\n",
        "        factor *= 10\n",
        "    return s\n",
        "def solve2(equation):\n",
        "    left, right = equation.lower().replace(' ', '').split('=')\n",
        "    left = left.split('+')\n",
        "    letters = set(right)\n",
        "    for word in left:\n",
        "        for letter in word:\n",
        "            letters.add(letter)\n",
        "    letters = list(letters)\n",
        "    digits = range(10)\n",
        "    for perm in itertools.permutations(digits, len(letters)):\n",
        "        sol = dict(zip(letters, perm))\n",
        "        if sum(get_value(word, sol) for word in left) == get_value(right, sol):\n",
        "            print(' + '.join(str(get_value(word, sol)) for word in left) + \" = {} (mapping: {})\".format(get_value(right, sol), sol))\n",
        "solve2('SEND + MORE = MONEY')"
      ],
      "metadata": {
        "colab": {
          "base_uri": "https://localhost:8080/"
        },
        "id": "IoGU_ODZyjzt",
        "outputId": "b2027e75-8128-4512-dd33-c8da5e7b591f"
      },
      "id": "IoGU_ODZyjzt",
      "execution_count": null,
      "outputs": [
        {
          "output_type": "stream",
          "name": "stdout",
          "text": [
            "3821 + 468 = 4289 (mapping: {'m': 0, 'd': 1, 'n': 2, 'r': 6, 'o': 4, 's': 3, 'y': 9, 'e': 8})\n",
            "7531 + 825 = 8356 (mapping: {'m': 0, 'd': 1, 'n': 3, 'r': 2, 'o': 8, 's': 7, 'y': 6, 'e': 5})\n",
            "5731 + 647 = 6378 (mapping: {'m': 0, 'd': 1, 'n': 3, 'r': 4, 'o': 6, 's': 5, 'y': 8, 'e': 7})\n",
            "6851 + 738 = 7589 (mapping: {'m': 0, 'd': 1, 'n': 5, 'r': 3, 'o': 7, 's': 6, 'y': 9, 'e': 8})\n",
            "3712 + 467 = 4179 (mapping: {'m': 0, 'd': 2, 'n': 1, 'r': 6, 'o': 4, 's': 3, 'y': 9, 'e': 7})\n",
            "8432 + 914 = 9346 (mapping: {'m': 0, 'd': 2, 'n': 3, 'r': 1, 'o': 9, 's': 8, 'y': 6, 'e': 4})\n",
            "5732 + 647 = 6379 (mapping: {'m': 0, 'd': 2, 'n': 3, 'r': 4, 'o': 6, 's': 5, 'y': 9, 'e': 7})\n",
            "8542 + 915 = 9457 (mapping: {'m': 0, 'd': 2, 'n': 4, 'r': 1, 'o': 9, 's': 8, 'y': 7, 'e': 5})\n",
            "7643 + 826 = 8469 (mapping: {'m': 0, 'd': 3, 'n': 4, 'r': 2, 'o': 8, 's': 7, 'y': 9, 'e': 6})\n",
            "6853 + 728 = 7581 (mapping: {'m': 0, 'd': 3, 'n': 5, 'r': 2, 'o': 7, 's': 6, 'y': 1, 'e': 8})\n",
            "8324 + 913 = 9237 (mapping: {'m': 0, 'd': 4, 'n': 2, 'r': 1, 'o': 9, 's': 8, 'y': 7, 'e': 3})\n",
            "6524 + 735 = 7259 (mapping: {'m': 0, 'd': 4, 'n': 2, 'r': 3, 'o': 7, 's': 6, 'y': 9, 'e': 5})\n",
            "7534 + 825 = 8359 (mapping: {'m': 0, 'd': 4, 'n': 3, 'r': 2, 'o': 8, 's': 7, 'y': 9, 'e': 5})\n",
            "6415 + 734 = 7149 (mapping: {'m': 0, 'd': 5, 'n': 1, 'r': 3, 'o': 7, 's': 6, 'y': 9, 'e': 4})\n",
            "7316 + 823 = 8139 (mapping: {'m': 0, 'd': 6, 'n': 1, 'r': 2, 'o': 8, 's': 7, 'y': 9, 'e': 3})\n",
            "2817 + 368 = 3185 (mapping: {'m': 0, 'd': 7, 'n': 1, 'r': 6, 'o': 3, 's': 2, 'y': 5, 'e': 8})\n",
            "6419 + 724 = 7143 (mapping: {'m': 0, 'd': 9, 'n': 1, 'r': 2, 'o': 7, 's': 6, 'y': 3, 'e': 4})\n",
            "3719 + 457 = 4176 (mapping: {'m': 0, 'd': 9, 'n': 1, 'r': 5, 'o': 4, 's': 3, 'y': 6, 'e': 7})\n",
            "2819 + 368 = 3187 (mapping: {'m': 0, 'd': 9, 'n': 1, 'r': 6, 'o': 3, 's': 2, 'y': 7, 'e': 8})\n",
            "7429 + 814 = 8243 (mapping: {'m': 0, 'd': 9, 'n': 2, 'r': 1, 'o': 8, 's': 7, 'y': 3, 'e': 4})\n",
            "3829 + 458 = 4287 (mapping: {'m': 0, 'd': 9, 'n': 2, 'r': 5, 'o': 4, 's': 3, 'y': 7, 'e': 8})\n",
            "7539 + 815 = 8354 (mapping: {'m': 0, 'd': 9, 'n': 3, 'r': 1, 'o': 8, 's': 7, 'y': 4, 'e': 5})\n",
            "7649 + 816 = 8465 (mapping: {'m': 0, 'd': 9, 'n': 4, 'r': 1, 'o': 8, 's': 7, 'y': 5, 'e': 6})\n",
            "5849 + 638 = 6487 (mapping: {'m': 0, 'd': 9, 'n': 4, 'r': 3, 'o': 6, 's': 5, 'y': 7, 'e': 8})\n",
            "9567 + 1085 = 10652 (mapping: {'m': 1, 'd': 7, 'n': 6, 'r': 8, 'o': 0, 's': 9, 'y': 2, 'e': 5})\n"
          ]
        }
      ]
    },
    {
      "cell_type": "code",
      "source": [
        "import string\n",
        "import itertools\n",
        "inListNumsAsStringArray = [ ['BASE', 'BALL'],['SEND', 'MORE'] ]\n",
        "inResultsArray = [ 'GAMES','MONEY' ]\n",
        "inPossibleNumsAsStr = '0123456789'\n",
        "def getNumberFromStringAndMappingInfo(inStr, inDictMapping):\n",
        "  numAsStr = ''\n",
        "  for ch in inStr:\n",
        "    numAsStr = numAsStr + inDictMapping[ch]\n",
        "  return int(numAsStr)\n",
        "def solveCryptarithmeticBruteForce(inListNumsAsString, inResultStr,inPossibleNumsAsStr):\n",
        "  nonZeroLetters = []\n",
        "  strFromStrList = ''\n",
        "  for numStr in inListNumsAsString:\n",
        "    nonZeroLetters.append(numStr[0])\n",
        "    strFromStrList = strFromStrList + numStr\n",
        "  nonZeroLetters.append(inResultStr[0])\n",
        "  strFromStrList = strFromStrList + inResultStr\n",
        "  uniqueStrs = ''.join(set(strFromStrList))\n",
        "  for tup in itertools.permutations(inPossibleNumsAsStr, len(uniqueStrs)):\n",
        "    dictCharAndDigit = {}\n",
        "    for i in range(len(uniqueStrs)):\n",
        "      dictCharAndDigit[uniqueStrs[i]] = tup[i]\n",
        "    nonZeroLetterIsZero = False\n",
        "    for letter in nonZeroLetters:\n",
        "        if(dictCharAndDigit[letter] == '0'):\n",
        "          nonZeroLetterIsZero = True\n",
        "          break\n",
        "    if(nonZeroLetterIsZero == True):\n",
        "          continue\n",
        "    result = getNumberFromStringAndMappingInfo(inResultStr, dictCharAndDigit)\n",
        "    testResult = 0\n",
        "    for numStr in inListNumsAsString:\n",
        "      testResult = testResult + getNumberFromStringAndMappingInfo(numStr,dictCharAndDigit)\n",
        "    if(testResult == result):\n",
        "      strToPrint = ''\n",
        "      for numStr in inListNumsAsString:\n",
        "        strToPrint = strToPrint + numStr + '(' +str(getNumberFromStringAndMappingInfo(numStr, dictCharAndDigit)) + ')' + ' + '\n",
        "      strToPrint = strToPrint[:-3]\n",
        "      strToPrint = strToPrint + ' = ' + inResultStr + '(' + str(result) + ')'\n",
        "      print(strToPrint)\n",
        "      break\n",
        "for i in range(len(inResultsArray)):\n",
        "    solveCryptarithmeticBruteForce(inListNumsAsStringArray[i], inResultsArray[i],inPossibleNumsAsStr)\n"
      ],
      "metadata": {
        "colab": {
          "base_uri": "https://localhost:8080/"
        },
        "id": "m0YiMlVgCu7x",
        "outputId": "30dda8b6-24e8-401c-a9eb-bca6f2f13f5d"
      },
      "id": "m0YiMlVgCu7x",
      "execution_count": null,
      "outputs": [
        {
          "output_type": "stream",
          "name": "stdout",
          "text": [
            "BASE(7483) + BALL(7455) = GAMES(14938)\n",
            "SEND(9567) + MORE(1085) = MONEY(10652)\n"
          ]
        }
      ]
    }
  ],
  "metadata": {
    "kernelspec": {
      "display_name": "Python 3 (ipykernel)",
      "language": "python",
      "name": "python3"
    },
    "language_info": {
      "codemirror_mode": {
        "name": "ipython",
        "version": 3
      },
      "file_extension": ".py",
      "mimetype": "text/x-python",
      "name": "python",
      "nbconvert_exporter": "python",
      "pygments_lexer": "ipython3",
      "version": "3.9.7"
    },
    "colab": {
      "provenance": []
    }
  },
  "nbformat": 4,
  "nbformat_minor": 5
}